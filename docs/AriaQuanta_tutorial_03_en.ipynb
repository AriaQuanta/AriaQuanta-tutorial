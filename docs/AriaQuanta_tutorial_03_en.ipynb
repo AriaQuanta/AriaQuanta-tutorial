{
 "cells": [
  {
   "cell_type": "markdown",
   "id": "2b824ac9",
   "metadata": {},
   "source": [
    "# AriaQuanta Tutorial"
   ]
  },
  {
   "cell_type": "markdown",
   "id": "6925b1bf-31d8-4244-87ae-bf44e528524a",
   "metadata": {},
   "source": [
    "# Table of Contents\n",
    "\n",
    "- [Installation](#installation)\n",
    "\n",
    "- [Qubits](#qubits)\n",
    "\n",
    "- [Gates](#gates)\n",
    "    * [Single-qubit gates](#singlequbitgates)\n",
    "    * [Double-qubit gates](#doublequbitgates)\n",
    "    * [Triple-qubit gates](#triplequbitgates)\n",
    "    * [Custom gates](#customgates)\n",
    "    * [Controlled gates](#controlledgates)\n",
    "      \n",
    "- [Quantum circuit](#circuit)\n",
    "    * [Simple run](#simplerun)\n",
    "    * [Simple measure](#simplemeasure)\n",
    "    * [Statevector to a probability plot](#svtoprob)\n",
    "    * [Converting a circuit to a custom gate](#qctogate)\n",
    "      \n",
    "- [Operations on a circuit](#operations)\n",
    "    * [Measure gates](#measuregates)\n",
    "    * [Conditional gates](#conditionalgates)\n",
    "    * [Noise gates](#noisegates)\n",
    "\n",
    "- [Backend](#backend)\n",
    "    * [Job](#backendjob)\n",
    "    * [Simulator](#backendsimulator)\n",
    "    * [Result](#backendresult)\n",
    "     \n",
    "- [Quantum Algorithms](#algorithms)\n",
    "    * [Bernestein-Vazirani](#bv_algorithm)\n",
    "    * [Teleportation](#teleportation)\n",
    "    * [Deutsch Jozsa Algorithm](#djalgorithm)\n",
    "    * [Grover's Algorithm](#grover)\n",
    "    * [Quantum Fourier Transform](#qft)\n",
    "    * [Inverse Quantum Fourier Transform](#iqft)\n",
    "    * [Quantum Phase Estimation](#qpe)\n",
    "    * [Variational Quantum Eigensolver (VQE)](#vqe)\n",
    "        - [Hamiltonian](#hamiltonian)\n",
    "        - [Ansatz](#ansatz)\n",
    "        - [Expectation value](#exp_value)\n",
    "        - [Solving VQE](#vqesolving)\n",
    "    * [Quantum Approximate Optimization Algorithm (QAOA)](#qaoa)\n",
    "\n",
    "    \n",
    "- [Reordering the qubits](#reorder)\n",
    "\n",
    "- [Testing circuits comparing with Qiskit](#compareqiskit)\n",
    "    * [Testing single-qubit gates](#compareqiskit1qubit)\n",
    "    * [Testing double-qubit gates](#compareqiskit2qubit)\n",
    "    * [Testing triple-qubit and control gates](#compareqisktcontrol)\n",
    "    * [Testing custom gates](#compareqiskitcustom)\n",
    "   \n",
    "- [Run-time of AriaQuanta compared with other libraries](#runtime)   \n",
    "\n",
    "- [Appendix A: Aria Quanta's package structure](#appendixA)"
   ]
  },
  {
   "cell_type": "markdown",
   "id": "622b5209",
   "metadata": {},
   "source": [
    "# Installing AriaQuanta <a id=\"installation\"></a>\n",
    "\n",
    "\n",
    "AriaQuanta is available on the `pip` repository, and it can be installed by the following command.\n"
   ]
  },
  {
   "cell_type": "markdown",
   "id": "1cf77ab8",
   "metadata": {},
   "source": [
    "pip install AriaQuanta"
   ]
  },
  {
   "cell_type": "markdown",
   "id": "243fc82f",
   "metadata": {},
   "source": [
    "The requirements for the package is as the following. These will be installed automatically when installing AriaQuanta:\n",
    "\n",
    "- numpy\n",
    "- scipy\n",
    "- matplotlib\n",
    "- pandas\n"
   ]
  },
  {
   "cell_type": "markdown",
   "id": "cd4d3e0c",
   "metadata": {},
   "source": [
    "# Qubits <a id=\"qubits\"></a>\n",
    "\n",
    "The smallest element of a quantum computing library is a qubit. To define a set of qubits, the `MultiQubit` object is used. This object is a set of `Qubit` objects. For one qubit, it is possible to use either `Qubit` or `MultiQubit`."
   ]
  },
  {
   "cell_type": "markdown",
   "id": "385addb1",
   "metadata": {},
   "source": [
    "- Qubit class:\n",
    "\n",
    "class `AriaQuanta.aqc.qubit (state=np.array([[1], [0]]), name='')`\n",
    "\n",
    "**Attributes**\n",
    "- state (numpy array)\n",
    "- name (optional)"
   ]
  },
  {
   "cell_type": "markdown",
   "id": "c268f23f",
   "metadata": {},
   "source": [
    "- MultiQubit class:\n",
    "\n",
    "class `AriaQuanta.aqc.MultiQubit (num_of_qubits, list_of_qubits=[])`\n",
    "    \n",
    "**Attributes**  \n",
    "- num_of_qubits (int)   \n",
    "- multistate (numpy array)\n",
    "- qubits (list of Qubits)"
   ]
  },
  {
   "cell_type": "code",
   "execution_count": 1,
   "id": "258836dd",
   "metadata": {},
   "outputs": [
    {
     "name": "stdout",
     "output_type": "stream",
     "text": [
      "\n",
      "state is: [[1]\n",
      " [0]]\n",
      "\n",
      "name is: q0\n"
     ]
    }
   ],
   "source": [
    "# Defining 1 qubit using Qubit:\n",
    "\n",
    "from AriaQuanta.aqc import Qubit\n",
    "\n",
    "onequbit = Qubit('q0')\n",
    "\n",
    "print(\"\\nstate is:\", onequbit.state)\n",
    "print(\"\\nname is:\", onequbit.name)"
   ]
  },
  {
   "cell_type": "code",
   "execution_count": 2,
   "id": "c64021e6",
   "metadata": {},
   "outputs": [
    {
     "name": "stdout",
     "output_type": "stream",
     "text": [
      "\n",
      "number of qubits are: 1\n",
      "\n",
      "qubits are: [<AriaQuanta.aqc.qubit.Qubit object at 0x70d70c704830>]\n",
      "\n",
      "state is: [[1]\n",
      " [0]]\n",
      "\n",
      "state of qubit[0] is: [[1]\n",
      " [0]]\n",
      "\n",
      "name of qubit[0] is: q0\n"
     ]
    }
   ],
   "source": [
    "# Defining 1 qubit using MultiQubit:\n",
    "\n",
    "from AriaQuanta.aqc import MultiQubit\n",
    "\n",
    "onequbit_multi = MultiQubit(1, [onequbit])\n",
    "\n",
    "print('\\nnumber of qubits are:', onequbit_multi.num_of_qubits)\n",
    "print('\\nqubits are:', onequbit_multi.qubits)\n",
    "print('\\nstate is:', onequbit_multi.multistate)\n",
    "\n",
    "# You can access the qubits by their indices as well\n",
    "\n",
    "print('\\nstate of qubit[0] is:', onequbit_multi.qubits[0].state)\n",
    "print('\\nname of qubit[0] is:', onequbit_multi.qubits[0].name)"
   ]
  },
  {
   "cell_type": "markdown",
   "id": "3941d997",
   "metadata": {},
   "source": [
    "Same as the above example, a system with more than one qubit can be defined. You can either use a list of your own `Qubit` objects, or only define the number of qubits. In the second case, the initial state will be a superposition of `|0>` and the default names are `None`"
   ]
  },
  {
   "cell_type": "code",
   "execution_count": 3,
   "id": "e76f8aeb",
   "metadata": {},
   "outputs": [
    {
     "name": "stdout",
     "output_type": "stream",
     "text": [
      "\n",
      "number of qubits are: 3\n",
      "\n",
      "qubits are: [<AriaQuanta.aqc.qubit.Qubit object at 0x70d721d2a850>, <AriaQuanta.aqc.qubit.Qubit object at 0x70d721d2a710>, <AriaQuanta.aqc.qubit.Qubit object at 0x70d70f1c9480>]\n",
      "\n",
      "state is: [[1]\n",
      " [0]\n",
      " [0]\n",
      " [0]\n",
      " [0]\n",
      " [0]\n",
      " [0]\n",
      " [0]]\n"
     ]
    }
   ],
   "source": [
    "# Defining 3 qubits using MultiQubit\n",
    "\n",
    "from AriaQuanta.aqc import MultiQubit\n",
    "\n",
    "myqubits = MultiQubit(3)\n",
    "\n",
    "print('\\nnumber of qubits are:', onequbit_multi.num_of_qubits)\n",
    "print('\\nqubits are:', onequbit_multi.qubits)\n",
    "print('\\nstate is:', onequbit_multi.multistate)"
   ]
  },
  {
   "cell_type": "markdown",
   "id": "7499df21",
   "metadata": {},
   "source": [
    "# Quantum Gates <a id=\"gates\"></a>\n",
    "\n",
    "Gates in AriaQuanta library are in the `gatelibrary`, and are part of different classes as follows:\n",
    "\n",
    "- Single-qubit gates:\n",
    "\n",
    "class `AriaQuanta.aqc.gatelibrary.GateSingleQubit (name, matrix, target_qubits)`\n",
    "\n",
    "- Double-qubit gates:\n",
    "\n",
    "class `AriaQuanta.aqc.gatelibrary.GateDoubleQubit (name, matrix, target_qubits)`\n",
    "\n",
    "- Triple-qubit gates:\n",
    "\n",
    "class `AriaQuanta.aqc.gatelibrary.GateTripleQubit (name, matrix, target_qubits)`\n",
    "\n",
    "- Custom gates:\n",
    "\n",
    "class `AriaQuanta.aqc.gatelibrary.GateCustom (name, matrix, target_qubits)`\n",
    "\n",
    "- Controlled gates:\n",
    "\n",
    "class `AriaQuanta.aqc.gatelibrary.GateControl (name, base_matrix, control_qubits, target_qubits)`\n"
   ]
  },
  {
   "cell_type": "markdown",
   "id": "ff958b1f",
   "metadata": {},
   "source": [
    "All the gates can be accessed through `gatelibrary` by the gate's name, no matter if it is from which type of the gate, defined above. For example:\n",
    "\n",
    "`from AriaQuanta.aqc.gatelibrary import X, SWAP, CCX, Custom, CX`"
   ]
  },
  {
   "cell_type": "markdown",
   "id": "c1e1fe2a",
   "metadata": {},
   "source": [
    "## GateSingleQubit <a id=\"singlequbitgates\"></a>\n",
    "\n",
    "**Class**\n",
    "\n",
    "- class `AriaQuanta.aqc.gatelibrary.GateSingleQubit (name, matrix, target_qubit)`\n",
    "\n",
    "**General Attributes**\n",
    "\n",
    "Note that some gates have also another attributes (like the angle, mentioned in the **Gates** part, listed bellow.)\n",
    "\n",
    "- name (str)\n",
    "- matrix (numpy array of float)\n",
    "- qubits (list of int) or range()\n",
    "\n",
    "**Methods**\n",
    "\n",
    "- multistate = apply (num_of_qubits, multistate))\n",
    "\n",
    "\n",
    "**Gates (and their specific inputs/attributes)**\n",
    "\n",
    "The gates with inputs also has the attributes related to the inputs (e.g. attribute `delta` for `GlobalPhase` gate)\n",
    "\n",
    "- I:\n",
    "\n",
    "class `I(GateSingleQubit) (target_qubits=0)`\n",
    "    \n",
    "- GlobalPhase (delta):\n",
    "\n",
    "class `GlobalPhase(GateSingleQubit) (delta, target_qubits=0)`\n",
    "    \n",
    "- X:\n",
    "\n",
    "class `X(GateSingleQubit) (target_qubits=0)`\n",
    "    \n",
    "- Y:\n",
    "\n",
    "class `Y(GateSingleQubit) (target_qubits=0)`\n",
    "    \n",
    "- Z:\n",
    "\n",
    "class `Z(GateSingleQubit) (target_qubits=0)`\n",
    "    \n",
    "- S:\n",
    "\n",
    "class `S(GateSingleQubit) (target_qubits=0)`\n",
    "\n",
    "- Sdagger, Sdg:\n",
    "\n",
    "class `Sdg(GateSingleQubit) (target_qubits=0)`\n",
    "\n",
    "- Xsqrt:\n",
    "\n",
    "class `Xsqrt(GateSingleQubit) (target_qubits=0)`\n",
    "    \n",
    "- H:\n",
    "\n",
    "class `H(GateSingleQubit) (target_qubits=0)`\n",
    "\n",
    "- P (phi):\n",
    "\n",
    "class `P(GateSingleQubit) (phi, target_qubits=0)`\n",
    "    \n",
    "- T:\n",
    "\n",
    "class `T(GateSingleQubit) (target_qubits=0)`\n",
    "    \n",
    "- RX (theta):\n",
    "\n",
    "class `RX(GateSingleQubit) (theta, target_qubits=0)`\n",
    "    \n",
    "- RY (theta):\n",
    "\n",
    "class `RY(GateSingleQubit) (theta, target_qubits=0)`\n",
    "    \n",
    "- RZ (theta):\n",
    "\n",
    "class `RZ(GateSingleQubit) (theta, target_qubits=0)`\n",
    "    \n",
    "- Rot (theta, phi, lambda_):\n",
    "\n",
    "class `Rot(GateSingleQubit) (theta, phi, lambda_, target_qubits=0)`\n",
    "\n",
    "**Note**\n",
    "\n",
    "For single qubit gates, one can define a range of integer numbers as the input. In this case, Aria Quanta will broadcast each number to the gate:\n",
    "example: H(range(3))\n",
    "means: H(0) | H(1) | H(2)"
   ]
  },
  {
   "cell_type": "code",
   "execution_count": 4,
   "id": "a2e59647",
   "metadata": {},
   "outputs": [
    {
     "name": "stdout",
     "output_type": "stream",
     "text": [
      "\n",
      "name is: X\n",
      "\n",
      "matrix is: [[0 1]\n",
      " [1 0]]\n",
      "\n",
      "qubits are: [0]\n"
     ]
    }
   ],
   "source": [
    "from AriaQuanta.aqc.gatelibrary import X\n",
    "\n",
    "xgate = X()\n",
    "\n",
    "print(\"\\nname is:\", xgate.name)\n",
    "print(\"\\nmatrix is:\", xgate.matrix)\n",
    "print(\"\\nqubits are:\", xgate.qubits)"
   ]
  },
  {
   "cell_type": "code",
   "execution_count": 5,
   "id": "a5c10754",
   "metadata": {},
   "outputs": [
    {
     "name": "stdout",
     "output_type": "stream",
     "text": [
      "\n",
      "name is: RZ\n",
      "\n",
      "matrix is: [[0.-1.j 0.+0.j]\n",
      " [0.+0.j 0.+1.j]]\n",
      "\n",
      "qubits are: [0]\n"
     ]
    }
   ],
   "source": [
    "from AriaQuanta.aqc.gatelibrary import RZ\n",
    "import math\n",
    "\n",
    "rzgate = RZ(math.pi)\n",
    "\n",
    "print(\"\\nname is:\", rzgate.name)\n",
    "print(\"\\nmatrix is:\", rzgate.matrix)\n",
    "print(\"\\nqubits are:\", rzgate.qubits)"
   ]
  },
  {
   "cell_type": "markdown",
   "id": "7c7fe2d8",
   "metadata": {},
   "source": [
    "### Using range() in the gates:"
   ]
  },
  {
   "cell_type": "code",
   "execution_count": null,
   "id": "13773b93",
   "metadata": {},
   "outputs": [
    {
     "data": {
      "image/png": "[encoded data removed]",
      "text/plain": [
       "<Figure size 420x270 with 1 Axes>"
      ]
     },
     "metadata": {},
     "output_type": "display_data"
    },
    {
     "name": "stdout",
     "output_type": "stream",
     "text": [
      "\n",
      "state vector for X(0) | X(1) | X(2) using run():  [[0.+0.j]\n",
      " [0.+0.j]\n",
      " [0.+0.j]\n",
      " [0.+0.j]\n",
      " [0.+0.j]\n",
      " [1.+0.j]\n",
      " [0.+0.j]\n",
      " [0.+0.j]]\n"
     ]
    },
    {
     "data": {
      "image/png": "[encoded data removed]",
      "text/plain": [
       "<Figure size 560x270 with 1 Axes>"
      ]
     },
     "metadata": {},
     "output_type": "display_data"
    },
    {
     "name": "stdout",
     "output_type": "stream",
     "text": [
      "\n",
      "state vector for X(range(3)) using run():  [[ 0.+0.j]\n",
      " [ 0.+0.j]\n",
      " [ 0.+0.j]\n",
      " [ 0.+0.j]\n",
      " [ 0.+0.j]\n",
      " [ 0.+0.j]\n",
      " [ 0.+0.j]\n",
      " [-1.+0.j]]\n",
      "\n",
      "statevectors for X(range(3)) using simulator:\n",
      " (array([[ 0.+0.j],\n",
      "       [ 0.+0.j],\n",
      "       [ 0.+0.j],\n",
      "       [ 0.+0.j],\n",
      "       [ 0.+0.j],\n",
      "       [ 0.+0.j],\n",
      "       [ 0.+0.j],\n",
      "       [-1.+0.j]]),)\n"
     ]
    }
   ],
   "source": [
    "# Range for the gates\n",
    "\n",
    "from AriaQuanta.aqc.gatelibrary import X, Z\n",
    "from AriaQuanta.aqc import Circuit, CircuitVisualizer\n",
    "from AriaQuanta.backend import Simulator\n",
    "\n",
    "#-------------------------------------------------------------\n",
    "qc1 = Circuit(3, 0)\n",
    "qc1 | X(0) | X(1) | X(2)\n",
    "\n",
    "visualizer = CircuitVisualizer(qc1)\n",
    "fig2, ax2 = visualizer.visualize()\n",
    "\n",
    "qc1.run()\n",
    "print(\"\\nstate vector for X(0) | X(1) | X(2) using run(): \", qc1.statevector)\n",
    "\n",
    "#-------------------------------------------------------------\n",
    "qc2 = Circuit(3, 0)\n",
    "qc2 | X(range(3))\n",
    "\n",
    "visualizer = CircuitVisualizer(qc2)\n",
    "fig2, ax2 = visualizer.visualize()\n",
    "\n",
    "qc2.run()\n",
    "print(\"\\nstate vector for X(range(3)) using run(): \", qc2.statevector)\n",
    "\n",
    "#-------------------------------------------------------------\n",
    "qc2 = Circuit(3, 0)\n",
    "qc2 | X(range(3))\n",
    "\n",
    "sim = Simulator()\n",
    "result = sim.simulate(qc2, 1, 1)\n",
    "\n",
    "print(\"\\nstatevectors for X(range(3)) using simulator:\\n\", result.statevector_all)\n"
   ]
  },
  {
   "cell_type": "markdown",
   "id": "9fe66d4f",
   "metadata": {},
   "source": [
    "## GateDoubleQubit <a id=\"doublequbitgates\"></a>\n",
    "\n",
    "**Class**\n",
    "\n",
    "- class `AriaQuanta.aqc.gatelibrary.GateDoubleQubit (name, matrix, target_qubits)`\n",
    "\n",
    "**General Attributes**\n",
    "\n",
    "Note that some gates have also another attributes (like the angle, mentioned in the **Gates** part, listed bellow.)\n",
    "\n",
    "- name (str)\n",
    "- matrix (numpy array of float)\n",
    "- qubits (list of int)\n",
    "\n",
    "**Methods**\n",
    "\n",
    "- multistate = apply (num_of_qubits, multistate))\n",
    "\n",
    "**Gates (and their specific inputs/attributes)**\n",
    "\n",
    "The gates with inputs also has the attributes related to the inputs (e.g. attribute `alpha` for `SWAPalpha` gate)\n",
    "\n",
    "- SWAP:\n",
    "\n",
    "class `SWAP(GateDoubleQubit) (target_qubits_1=0, target_qubits_2=1)`\n",
    "    \n",
    "- ISWAP:\n",
    "\n",
    "class `ISWAP(GateDoubleQubit) (target_qubits_1=0, target_qubits_2=1)`\n",
    "    \n",
    "- SWAPsqrt:\n",
    "\n",
    "class `SWAPsqrt(GateDoubleQubit) (target_qubits_1=0, target_qubits_2=1)`\n",
    "    \n",
    "- SWAPalpha (alpha):\n",
    "\n",
    "class `SWAPalpha(GateDoubleQubit) (alpha, target_qubits_1=0, target_qubits_2=1)`\n",
    "    \n",
    "- RXX (phi):\n",
    "\n",
    "class `RXX(GateDoubleQubit) (phi, target_qubits_1=0, target_qubits_2=1)`\n",
    "    \n",
    "- RYY (phi):\n",
    "\n",
    "class `RYY(GateDoubleQubit) (phi, target_qubits_1=0, target_qubits_2=1)`\n",
    "    \n",
    "- RZZ (phi):\n",
    "\n",
    "class `RZZ(GateDoubleQubit) (phi, target_qubits_1=0, target_qubits_2=1)`\n",
    "    \n",
    "- RXY (phi):\n",
    "\n",
    "class `RXY(GateDoubleQubit) (phi, target_qubits_1=0, target_qubits_2=1)`\n",
    "\n",
    "- Barenco (alpha, phi, theta):\n",
    "\n",
    "class `Barenco(GateDoubleQubit) (alpha, phi, theta, target_qubits_1=0, target_qubits_2=1)`\n",
    "    \n",
    "- Berkeley:\n",
    "\n",
    "class `Berkeley(GateDoubleQubit) (target_qubits_1=0, target_qubits_2=1)`\n",
    "    \n",
    "- Canonical (a, b, c):\n",
    "\n",
    "class `Canonical(GateDoubleQubit) (a, b, c, target_qubits_1=0, target_qubits_2=1)`\n",
    "    \n",
    "- Givens (theta):\n",
    "\n",
    "class `Givens(GateDoubleQubit) (theta, target_qubits_1=0, target_qubits_2=1)`\n",
    "    \n",
    "- Magic:\n",
    "\n",
    "class `Magic(GateDoubleQubit) (target_qubits_1=0, target_qubits_2=1)`\n",
    "    "
   ]
  },
  {
   "cell_type": "code",
   "execution_count": 7,
   "id": "8236148e",
   "metadata": {},
   "outputs": [
    {
     "name": "stdout",
     "output_type": "stream",
     "text": [
      "\n",
      "name is: SWAP\n",
      "\n",
      "matrix is: [[1 0 0 0]\n",
      " [0 0 1 0]\n",
      " [0 1 0 0]\n",
      " [0 0 0 1]]\n",
      "\n",
      "qubits are: [0, 1]\n"
     ]
    }
   ],
   "source": [
    "from AriaQuanta.aqc.gatelibrary import SWAP\n",
    "\n",
    "swapgate = SWAP()\n",
    "\n",
    "print(\"\\nname is:\", swapgate.name)\n",
    "print(\"\\nmatrix is:\", swapgate.matrix)\n",
    "print(\"\\nqubits are:\", swapgate.qubits)"
   ]
  },
  {
   "cell_type": "code",
   "execution_count": 8,
   "id": "8f52e3d8",
   "metadata": {},
   "outputs": [
    {
     "name": "stdout",
     "output_type": "stream",
     "text": [
      "\n",
      "name is: RXX\n",
      "\n",
      "matrix is: [[0.+0.j 0.+0.j 0.+0.j 0.-1.j]\n",
      " [0.+0.j 0.+0.j 0.-1.j 0.+0.j]\n",
      " [0.+0.j 0.-1.j 0.+0.j 0.+0.j]\n",
      " [0.-1.j 0.+0.j 0.+0.j 0.+0.j]]\n",
      "\n",
      "qubits are: [0, 1]\n"
     ]
    }
   ],
   "source": [
    "from AriaQuanta.aqc.gatelibrary import RXX\n",
    "import math\n",
    "\n",
    "rxxgate = RXX(math.pi)\n",
    "\n",
    "print(\"\\nname is:\", rxxgate.name)\n",
    "print(\"\\nmatrix is:\", rxxgate.matrix)\n",
    "print(\"\\nqubits are:\", rxxgate.qubits)"
   ]
  },
  {
   "cell_type": "markdown",
   "id": "2c2d430a",
   "metadata": {},
   "source": [
    "## GateTripleQubit <a id=\"triplequbitgates\"></a>\n",
    "\n",
    "Triple-qubit gates `CSWAP` and `CCX` are now part of the `GateControl` class. The information can be found in the related [section](#controlledgates)"
   ]
  },
  {
   "cell_type": "code",
   "execution_count": 9,
   "id": "56077152",
   "metadata": {},
   "outputs": [
    {
     "name": "stdout",
     "output_type": "stream",
     "text": [
      "\n",
      "name is: CCX\n",
      "\n",
      "matrix is: [[1. 0. 0. 0. 0. 0. 0. 0.]\n",
      " [0. 1. 0. 0. 0. 0. 0. 0.]\n",
      " [0. 0. 1. 0. 0. 0. 0. 0.]\n",
      " [0. 0. 0. 1. 0. 0. 0. 0.]\n",
      " [0. 0. 0. 0. 1. 0. 0. 0.]\n",
      " [0. 0. 0. 0. 0. 1. 0. 0.]\n",
      " [0. 0. 0. 0. 0. 0. 0. 1.]\n",
      " [0. 0. 0. 0. 0. 0. 1. 0.]]\n",
      "\n",
      "qubits are: [0, 1, 2]\n"
     ]
    }
   ],
   "source": [
    "# Example of a triple-qubit gate\n",
    "\n",
    "from AriaQuanta.aqc.gatelibrary import CCX\n",
    "\n",
    "ccxgate = CCX()\n",
    "\n",
    "print(\"\\nname is:\", ccxgate.name)\n",
    "print(\"\\nmatrix is:\", ccxgate.matrix)\n",
    "print(\"\\nqubits are:\", ccxgate.qubits)"
   ]
  },
  {
   "cell_type": "markdown",
   "id": "8807ee8e",
   "metadata": {},
   "source": [
    "## GateCustom <a id=\"customgates\"></a>\n",
    "\n",
    "**Class**\n",
    "    \n",
    "- class `AriaQuanta.aqc.gatelibrary.GateCustom (name, matrix, target_qubits)`\n",
    "\n",
    "**General Attributes**\n",
    "\n",
    "- name (str)\n",
    "- matrix (numpy array of float)\n",
    "- qubits (list of int)\n",
    "\n",
    "**Methods**\n",
    "\n",
    "- multistate = apply (num_of_qubits, multistate))\n",
    "\n",
    "**Gates**\n",
    "\n",
    "- Custom gate:\n",
    "\n",
    "class `Custom(GateCustom) (matrix, target_qubits=0)`\n",
    "\n",
    "\n",
    "**Notes**\n",
    "\n",
    "Custom gates are square matrices with any dimension. The only condition to be statified is being \"unitary\". The exmple below shows a 2-by-2 custom matrix.\n"
   ]
  },
  {
   "cell_type": "code",
   "execution_count": 10,
   "id": "de45b923",
   "metadata": {},
   "outputs": [
    {
     "name": "stdout",
     "output_type": "stream",
     "text": [
      "[[1.+0.j]\n",
      " [0.+0.j]\n",
      " [0.+0.j]\n",
      " [0.+0.j]]\n"
     ]
    }
   ],
   "source": [
    "# Example of defining custom gates\n",
    "\n",
    "from AriaQuanta.aqc.gatelibrary import Custom\n",
    "from AriaQuanta.aqc import Circuit\n",
    "import numpy as np \n",
    "\n",
    "# Define a custom gate with a 2-D matrix\n",
    "mymatrix = np.array([[1, 0, 0, 0],\n",
    "                    [0, 0, +1j, 0],\n",
    "                    [0, +1j, 0, 0],\n",
    "                    [0, 0, 0, 1]])\n",
    "\n",
    "# The number of target qubits are 2 for a 2-D matrix\n",
    "customgate1 = Custom(mymatrix, [0,1])\n",
    "\n",
    "qc = Circuit(2)\n",
    "qc | customgate1\n",
    "qc.run()\n",
    "print(qc.statevector)"
   ]
  },
  {
   "cell_type": "markdown",
   "id": "13223b25",
   "metadata": {},
   "source": [
    "## GateControl <a id=\"controlledgates\"></a>\n",
    "\n",
    "**Class**\n",
    "    \n",
    "- class `AriaQuanta.aqc.gatelibrary.class GateControl (name, base_matrix, control_qubits, target_qubits)`\n",
    "\n",
    "**General Attributes**\n",
    "\n",
    "Note that some gates have also another attributes (like the angle, mentioned in the **Gates** part, listed bellow.)\n",
    "\n",
    "- name (str)\n",
    "- base_matrix (numpy array of float), this is the base matrix that will be applied when the controlled condition is satisfied.\n",
    "- matrix (numpy array of float), this is the general representation of the controlled matrix, considering q0 as the control gate.\n",
    "- control_qubits (numpy array of int)\n",
    "- target_qubits (numpy array of int)\n",
    "- qubits (list of numpy array of int)\n",
    "\n",
    "\n",
    "**Methods**\n",
    "\n",
    "- multistate = apply (num_of_qubits, multistate))\n",
    "\n",
    "**Gates (and their specific inputs/attributes)**\n",
    "\n",
    "- Control on a custom U matrix, CU (base_matrix):\n",
    "\n",
    "class `CU(GateControl) (base_matrix, control_qubits=0, target_qubits=1)`\n",
    "\n",
    "- Controlled-X, CX:\n",
    "\n",
    "class `class CX(GateControl) (control_qubits=0, target_qubits=1)`\n",
    "\n",
    "- Controlled-Z, CZ:\n",
    "\n",
    "class `class CZ(GateControl) (control_qubits=0, target_qubits=1)`\n",
    "\n",
    "\n",
    "- Controlled-Phase, CP (phi):\n",
    "\n",
    "class `CP(GateControl) (phi, control_qubits=0, target_qubits=1)`\n",
    "\n",
    "- Controlled-S, CS:\n",
    "\n",
    "class `class CS(GateControl) (control_qubits=0, target_qubits=1)`\n",
    "\n",
    "- Controlled-sqaure-X, CSX:\n",
    "\n",
    "class `class CSX(GateControl) (control_qubits=0, target_qubits=1)`\n",
    "\n",
    "- Toffoli, controlled-controlled NOT, CCX:\n",
    "\n",
    "class `CCX(GateControl) (qubits_1=0, qubits_2=1, qubits_3=2)`\n",
    "\n",
    "- Fredkin, controlled swap\n",
    "\n",
    "class `CSWAP(GateControl) (qubits_1=0, qubits_2=1, qubits_3=2)`\n",
    "\n",
    "**Notes**\n",
    "\n",
    "The general `matrix` representation for a gate `G`, considering q1 as the control qubit, and q0 as the target qubit is computed by the formula below:"
   ]
  },
  {
   "cell_type": "markdown",
   "id": "169f16fe",
   "metadata": {},
   "source": [
    "$$\n",
    "  \\textrm{Controlled-G}_{q1, q0} = \\vert0\\rangle \\langle0\\vert \\otimes I + \\vert1\\rangle \\langle1\\vert \\otimes G\n",
    "$$"
   ]
  },
  {
   "cell_type": "code",
   "execution_count": 11,
   "id": "128cba78",
   "metadata": {},
   "outputs": [
    {
     "name": "stdout",
     "output_type": "stream",
     "text": [
      "\n",
      "name is: CX\n",
      "\n",
      "base matrix is: [[0 1]\n",
      " [1 0]]\n",
      "\n",
      "controlled matrix is: [[1 0 0 0]\n",
      " [0 1 0 0]\n",
      " [0 0 0 1]\n",
      " [0 0 1 0]]\n",
      "\n",
      "control qubit is: [0]\n",
      "\n",
      "target qubit is: [1]\n",
      "\n",
      "qubits are: [0, 1]\n"
     ]
    }
   ],
   "source": [
    "# Example of controlled gates\n",
    "\n",
    "from AriaQuanta.aqc.gatelibrary import CX\n",
    "\n",
    "cxgate = CX()\n",
    "\n",
    "print(\"\\nname is:\", cxgate.name)\n",
    "print(\"\\nbase matrix is:\", cxgate.base_matrix)\n",
    "print(\"\\ncontrolled matrix is:\", cxgate.matrix)\n",
    "print(\"\\ncontrol qubit is:\", cxgate.control_qubits)\n",
    "print(\"\\ntarget qubit is:\", cxgate.target_qubits)\n",
    "print(\"\\nqubits are:\", cxgate.qubits)"
   ]
  },
  {
   "cell_type": "code",
   "execution_count": 12,
   "id": "6a296a8e",
   "metadata": {},
   "outputs": [
    {
     "name": "stdout",
     "output_type": "stream",
     "text": [
      "\n",
      "name is: CU\n",
      "\n",
      "base matrix is: [[0 1]\n",
      " [1 0]]\n",
      "\n",
      "controlled matrix is: [[1. 0. 0. 0.]\n",
      " [0. 1. 0. 0.]\n",
      " [0. 0. 0. 1.]\n",
      " [0. 0. 1. 0.]]\n",
      "\n",
      "control qubit is: [0]\n",
      "\n",
      "target qubit is: [1]\n",
      "\n",
      "qubits are: [0, 1]\n"
     ]
    }
   ],
   "source": [
    "# Example of controlled gates with arbitrary matrix\n",
    "# Example of a 1-D matrix\n",
    "\n",
    "from AriaQuanta.aqc.gatelibrary import CU\n",
    "\n",
    "matrix1 = np.array([[0, 1], [1, 0]])\n",
    "\n",
    "cugate1 = CU(base_matrix=matrix1, control_qubits=[0], target_qubits=[1])\n",
    "\n",
    "print(\"\\nname is:\", cugate1.name)\n",
    "print(\"\\nbase matrix is:\", cugate1.base_matrix)\n",
    "print(\"\\ncontrolled matrix is:\", cugate1.matrix)\n",
    "print(\"\\ncontrol qubit is:\", cugate1.control_qubits)\n",
    "print(\"\\ntarget qubit is:\", cugate1.target_qubits)\n",
    "print(\"\\nqubits are:\", cugate1.qubits)"
   ]
  },
  {
   "cell_type": "code",
   "execution_count": 13,
   "id": "6795ae7f",
   "metadata": {},
   "outputs": [
    {
     "name": "stdout",
     "output_type": "stream",
     "text": [
      "\n",
      "name is: CU\n",
      "\n",
      "base matrix is: [[1 0 0 0]\n",
      " [0 0 1 0]\n",
      " [0 1 0 0]\n",
      " [0 0 0 1]]\n",
      "\n",
      "controlled matrix is: [[1. 0. 0. 0. 0. 0. 0. 0.]\n",
      " [0. 1. 0. 0. 0. 0. 0. 0.]\n",
      " [0. 0. 1. 0. 0. 0. 0. 0.]\n",
      " [0. 0. 0. 1. 0. 0. 0. 0.]\n",
      " [0. 0. 0. 0. 1. 0. 0. 0.]\n",
      " [0. 0. 0. 0. 0. 0. 1. 0.]\n",
      " [0. 0. 0. 0. 0. 1. 0. 0.]\n",
      " [0. 0. 0. 0. 0. 0. 0. 1.]]\n",
      "\n",
      "control qubit is: [0]\n",
      "\n",
      "target qubit is: [1 2]\n",
      "\n",
      "qubits are: [0, 1, 2]\n"
     ]
    }
   ],
   "source": [
    "# Example of controlled gates with arbitrary matrix\n",
    "# Example of a 2-D matrix\n",
    "\n",
    "from AriaQuanta.aqc.gatelibrary import CU\n",
    "\n",
    "matrix2 = np.array([[1, 0, 0, 0],\n",
    "          [0, 0, 1, 0],\n",
    "          [0, 1, 0, 0],\n",
    "          [0, 0, 0, 1]])\n",
    "\n",
    "cugate2 = CU(base_matrix=matrix2, control_qubits=[0], target_qubits=[1,2])\n",
    "\n",
    "print(\"\\nname is:\", cugate2.name)\n",
    "print(\"\\nbase matrix is:\", cugate2.base_matrix)\n",
    "print(\"\\ncontrolled matrix is:\", cugate2.matrix)\n",
    "print(\"\\ncontrol qubit is:\", cugate2.control_qubits)\n",
    "print(\"\\ntarget qubit is:\", cugate2.target_qubits)\n",
    "print(\"\\nqubits are:\", cugate2.qubits)"
   ]
  },
  {
   "cell_type": "markdown",
   "id": "f9358131",
   "metadata": {},
   "source": [
    "# Quantum circuit <a id=\"circuit\"></a>\n",
    "\n",
    "A quantum circuit is a set of gates applied to an statevector from a series of entangled qunatum bits. The class is defined as below:\n",
    "\n",
    "**Class**\n",
    "    \n",
    "- class `AriaQuanta.aqc.Circuit (num_of_qubits, num_of_clbits=0, initial_state=None)`\n",
    "\n",
    "**General Attributes**\n",
    "\n",
    "- num_of_qubits (int)\n",
    "- num_of_clbits (int)\n",
    "- gates (objects of gates class)\n",
    "- gatesinfo (dictionaty of gates names and their numbers)\n",
    "\n",
    "- width (int): number of wires of the circuit\n",
    "- size (int): number of operaition in the circuit\n",
    "- depth (int): numbber of independent operations in the circuit\n",
    "\n",
    "- initial_state (numpy array): the initial statevector\n",
    "- statevector (numpy array)\n",
    "- density_matrix (numpy array)\n",
    "\n",
    "\n",
    "**Methods**\n",
    "\n",
    "- __or__(gate): user-friendly adding gate operation to the circuit:\n",
    "\n",
    "- add_gate(): adding gates to the circuit:\n",
    "\n",
    "- state = run(): run a circuit\n",
    "    \n",
    "- measurement = measure_all(): measure a circuit\n",
    "\n",
    "- qc_copy = copy(): copy a circuit object to a new object\n",
    "\n",
    "**Additional Functions**\n",
    "\n",
    "There is a function from the `AriaQuanta.aqc.Circuit`, that is used to convert a circuit to a matrix:\n",
    "\n",
    "- circuit_gate = to_gate(Circuit)\n"
   ]
  },
  {
   "cell_type": "code",
   "execution_count": 14,
   "id": "cbeb7aa3",
   "metadata": {
    "scrolled": true
   },
   "outputs": [
    {
     "name": "stdout",
     "output_type": "stream",
     "text": [
      "[0]\n",
      "[1]\n",
      "[2]\n",
      "[0, 1]\n"
     ]
    },
    {
     "data": {
      "image/png": "[encoded data removed]",
      "text/plain": [
       "<Figure size 840x270 with 1 Axes>"
      ]
     },
     "metadata": {},
     "output_type": "display_data"
    },
    {
     "name": "stdout",
     "output_type": "stream",
     "text": [
      "\n",
      "number of qubits are:  3\n",
      "\n",
      "number of classical bits are:  0\n",
      "\n",
      "counting all the gates:  {'H': 4, 'SWAP': 1, 'X': 1}\n",
      "\n",
      "width of the circuit:  3\n",
      "\n",
      "size of the circuit:  6\n",
      "\n",
      "depth of the circuit:  3\n",
      "\n",
      "initial state is:  [[1]\n",
      " [0]\n",
      " [0]\n",
      " [0]\n",
      " [0]\n",
      " [0]\n",
      " [0]\n",
      " [0]]\n",
      "\n",
      "state vector before running is the initial state:  [[1]\n",
      " [0]\n",
      " [0]\n",
      " [0]\n",
      " [0]\n",
      " [0]\n",
      " [0]\n",
      " [0]]\n",
      "\n",
      "density matrix before running, the matrix represenation of the initial state:  [[1 0 0 0 0 0 0 0]\n",
      " [0 0 0 0 0 0 0 0]\n",
      " [0 0 0 0 0 0 0 0]\n",
      " [0 0 0 0 0 0 0 0]\n",
      " [0 0 0 0 0 0 0 0]\n",
      " [0 0 0 0 0 0 0 0]\n",
      " [0 0 0 0 0 0 0 0]\n",
      " [0 0 0 0 0 0 0 0]]\n"
     ]
    }
   ],
   "source": [
    "# Defining a circuit and get the info of that:\n",
    "\n",
    "from AriaQuanta.aqc.gatelibrary import H, X, SWAP\n",
    "from AriaQuanta.aqc import Circuit, CircuitVisualizer\n",
    "\n",
    "qc = Circuit(3, 0)\n",
    "qc | H(range(3)) | SWAP(0,1) | X(2) | H(1)\n",
    "\n",
    "print(qc.gates[0].qubits)\n",
    "print(qc.gates[1].qubits)\n",
    "print(qc.gates[2].qubits)\n",
    "print(qc.gates[3].qubits)\n",
    "\n",
    "visualizer = CircuitVisualizer(qc)\n",
    "fig, ax = visualizer.visualize()\n",
    "\n",
    "# these are the infor before running a circuit\n",
    "# note that the default initial state is the |0>\n",
    "\n",
    "print(\"\\nnumber of qubits are: \", qc.num_of_qubits)\n",
    "print(\"\\nnumber of classical bits are: \", qc.num_of_clbits)\n",
    "#print(\"all the gates shown as gates libraries are: \", qc.gates)\n",
    "print(\"\\ncounting all the gates: \", qc.gatesinfo)\n",
    "\n",
    "print(\"\\nwidth of the circuit: \", qc.width)\n",
    "print(\"\\nsize of the circuit: \", qc.size)\n",
    "print(\"\\ndepth of the circuit: \", qc.depth)\n",
    "\n",
    "print(\"\\ninitial state is: \", qc.initial_state)\n",
    "print(\"\\nstate vector before running is the initial state: \", qc.statevector)\n",
    "print(\"\\ndensity matrix before running, the matrix represenation of the initial state: \", qc.density_matrix)"
   ]
  },
  {
   "cell_type": "code",
   "execution_count": 15,
   "id": "4a83d78c",
   "metadata": {},
   "outputs": [
    {
     "ename": "ValueError",
     "evalue": "5 is out-of-range for the qubit ID. The valid ID is between 0 and 2",
     "output_type": "error",
     "traceback": [
      "\u001b[31m---------------------------------------------------------------------------\u001b[39m",
      "\u001b[31mValueError\u001b[39m                                Traceback (most recent call last)",
      "\u001b[36mCell\u001b[39m\u001b[36m \u001b[39m\u001b[32mIn[15]\u001b[39m\u001b[32m, line 9\u001b[39m\n\u001b[32m      6\u001b[39m \u001b[38;5;28;01mfrom\u001b[39;00m\u001b[38;5;250m \u001b[39m\u001b[34;01mAriaQuanta\u001b[39;00m\u001b[34;01m.\u001b[39;00m\u001b[34;01maqc\u001b[39;00m\u001b[38;5;250m \u001b[39m\u001b[38;5;28;01mimport\u001b[39;00m Circuit\n\u001b[32m      8\u001b[39m qc = Circuit(\u001b[32m3\u001b[39m, \u001b[32m0\u001b[39m)\n\u001b[32m----> \u001b[39m\u001b[32m9\u001b[39m \u001b[43mqc\u001b[49m\u001b[43m \u001b[49m\u001b[43m|\u001b[49m\u001b[43m \u001b[49m\u001b[43mH\u001b[49m\u001b[43m(\u001b[49m\u001b[32;43m0\u001b[39;49m\u001b[43m)\u001b[49m\u001b[43m \u001b[49m\u001b[43m|\u001b[49m\u001b[43m \u001b[49m\u001b[43mX\u001b[49m\u001b[43m(\u001b[49m\u001b[32;43m2\u001b[39;49m\u001b[43m)\u001b[49m\u001b[43m \u001b[49m\u001b[43m|\u001b[49m\u001b[43m \u001b[49m\u001b[43mH\u001b[49m\u001b[43m(\u001b[49m\u001b[32;43m1\u001b[39;49m\u001b[43m)\u001b[49m\u001b[43m \u001b[49m\u001b[43m|\u001b[49m\u001b[43m \u001b[49m\u001b[43mSWAP\u001b[49m\u001b[43m(\u001b[49m\u001b[32;43m0\u001b[39;49m\u001b[43m,\u001b[49m\u001b[32;43m5\u001b[39;49m\u001b[43m)\u001b[49m\n",
      "\u001b[36mFile \u001b[39m\u001b[32m/media/khatereh/4c9e0d48-0836-47ad-b4af-9f705ce08ee0/khatereh/Project/Explorations/AriaQuanta_everything/AriaQuanta/AriaQuanta/aqc/circuit.py:131\u001b[39m, in \u001b[36mCircuit.__or__\u001b[39m\u001b[34m(self, gate)\u001b[39m\n\u001b[32m    130\u001b[39m \u001b[38;5;28;01mdef\u001b[39;00m\u001b[38;5;250m \u001b[39m\u001b[34m__or__\u001b[39m(\u001b[38;5;28mself\u001b[39m, gate):\n\u001b[32m--> \u001b[39m\u001b[32m131\u001b[39m     \u001b[38;5;28;43mself\u001b[39;49m\u001b[43m.\u001b[49m\u001b[43madd_gate\u001b[49m\u001b[43m(\u001b[49m\u001b[43mgate\u001b[49m\u001b[43m)\u001b[49m\n\u001b[32m    132\u001b[39m     \u001b[38;5;28;01mreturn\u001b[39;00m \u001b[38;5;28mself\u001b[39m\n",
      "\u001b[36mFile \u001b[39m\u001b[32m/media/khatereh/4c9e0d48-0836-47ad-b4af-9f705ce08ee0/khatereh/Project/Explorations/AriaQuanta_everything/AriaQuanta/AriaQuanta/aqc/circuit.py:138\u001b[39m, in \u001b[36mCircuit.add_gate\u001b[39m\u001b[34m(self, gate)\u001b[39m\n\u001b[32m    135\u001b[39m \u001b[38;5;28;01mdef\u001b[39;00m\u001b[38;5;250m \u001b[39m\u001b[34madd_gate\u001b[39m(\u001b[38;5;28mself\u001b[39m, gate):\n\u001b[32m    137\u001b[39m     \u001b[38;5;28;01mif\u001b[39;00m \u001b[38;5;28mmax\u001b[39m(gate.qubits) > \u001b[38;5;28mself\u001b[39m.num_of_qubits:\n\u001b[32m--> \u001b[39m\u001b[32m138\u001b[39m         \u001b[38;5;28;01mraise\u001b[39;00m \u001b[38;5;167;01mValueError\u001b[39;00m(\u001b[33m\"\u001b[39m\u001b[38;5;132;01m{}\u001b[39;00m\u001b[33m is out-of-range for the qubit ID. The valid ID is between 0 and \u001b[39m\u001b[38;5;132;01m{}\u001b[39;00m\u001b[33m\"\u001b[39m.format(\u001b[38;5;28mmax\u001b[39m(gate.qubits),\u001b[38;5;28mself\u001b[39m.num_of_qubits-\u001b[32m1\u001b[39m)) \n\u001b[32m    140\u001b[39m     target_qubits = gate.target_qubits\n\u001b[32m    141\u001b[39m     size_target_qubits = np.size(target_qubits)\n",
      "\u001b[31mValueError\u001b[39m: 5 is out-of-range for the qubit ID. The valid ID is between 0 and 2"
     ]
    }
   ],
   "source": [
    "# Check if one can give extra qubits in the circuit\n",
    "\n",
    "# in this case, the code will raise an error:\n",
    "\n",
    "from AriaQuanta.aqc.gatelibrary import H, X, SWAP\n",
    "from AriaQuanta.aqc import Circuit\n",
    "\n",
    "qc = Circuit(3, 0)\n",
    "qc | H(0) | X(2) | H(1) | SWAP(0,5)"
   ]
  },
  {
   "cell_type": "markdown",
   "id": "367a4d7b",
   "metadata": {},
   "source": [
    "## Simple Running of a circuit <a id=\"simplerun\"></a>\n",
    "\n",
    "The first approach to execute a quantum circuit, is to use the methods `run()`, and `measure_all()`. The two methods are used for a quick run and a one-time measure of the circuit. The example below shows the usage of this appraoch.\n",
    "\n",
    "**NOTE that the simple `measure_all` just outputs a state without changing the circuit's statevector. It is important if the user wants to check his/her results, running the circuit multiple times**"
   ]
  },
  {
   "cell_type": "code",
   "execution_count": 19,
   "id": "dc243045",
   "metadata": {},
   "outputs": [
    {
     "name": "stdout",
     "output_type": "stream",
     "text": [
      "\n",
      "state vector:  [[0.        +0.j]\n",
      " [0.70710678+0.j]\n",
      " [0.        +0.j]\n",
      " [0.70710678+0.j]]\n",
      "\n",
      "density matrix:  [[0. +0.j 0. +0.j 0. +0.j 0. +0.j]\n",
      " [0. +0.j 0.5+0.j 0. +0.j 0.5+0.j]\n",
      " [0. +0.j 0. +0.j 0. +0.j 0. +0.j]\n",
      " [0. +0.j 0.5+0.j 0. +0.j 0.5+0.j]]\n"
     ]
    }
   ],
   "source": [
    "from AriaQuanta.aqc.gatelibrary import H, X\n",
    "from AriaQuanta.aqc import Circuit\n",
    "\n",
    "qc = Circuit(2)\n",
    "qc |  H(0) | X(1)\n",
    "\n",
    "qc.run()\n",
    "\n",
    "print(\"\\nstate vector: \", qc.statevector)\n",
    "print(\"\\ndensity matrix: \", qc.density_matrix)"
   ]
  },
  {
   "cell_type": "markdown",
   "id": "f5c1dee6",
   "metadata": {},
   "source": [
    "## Simple measuring of a circuit <a id=\"simplemeasure\"></a>"
   ]
  },
  {
   "cell_type": "code",
   "execution_count": 20,
   "id": "2eaa39cd",
   "metadata": {},
   "outputs": [
    {
     "name": "stdout",
     "output_type": "stream",
     "text": [
      "\n",
      "measurement result:  |011>\n",
      "\n",
      "state vector:  [[0. +0.j ]\n",
      " [0. +0.j ]\n",
      " [0.5+0.j ]\n",
      " [0. -0.5j]\n",
      " [0. +0.j ]\n",
      " [0. +0.j ]\n",
      " [0.5+0.j ]\n",
      " [0. -0.5j]]\n",
      "\n",
      "density matrix:  [[ 0.  +0.j    0.  +0.j    0.  +0.j    0.  +0.j    0.  +0.j    0.  +0.j\n",
      "   0.  +0.j    0.  +0.j  ]\n",
      " [ 0.  +0.j    0.  +0.j    0.  +0.j    0.  +0.j    0.  +0.j    0.  +0.j\n",
      "   0.  +0.j    0.  +0.j  ]\n",
      " [ 0.  +0.j    0.  +0.j    0.25+0.j    0.  -0.25j  0.  +0.j    0.  +0.j\n",
      "   0.25+0.j    0.  -0.25j]\n",
      " [ 0.  +0.j    0.  +0.j    0.  -0.25j -0.25+0.j    0.  +0.j    0.  +0.j\n",
      "   0.  -0.25j -0.25+0.j  ]\n",
      " [ 0.  +0.j    0.  +0.j    0.  +0.j    0.  +0.j    0.  +0.j    0.  +0.j\n",
      "   0.  +0.j    0.  +0.j  ]\n",
      " [ 0.  +0.j    0.  +0.j    0.  +0.j    0.  +0.j    0.  +0.j    0.  +0.j\n",
      "   0.  +0.j    0.  +0.j  ]\n",
      " [ 0.  +0.j    0.  +0.j    0.25+0.j    0.  -0.25j  0.  +0.j    0.  +0.j\n",
      "   0.25+0.j    0.  -0.25j]\n",
      " [ 0.  +0.j    0.  +0.j    0.  -0.25j -0.25+0.j    0.  +0.j    0.  +0.j\n",
      "   0.  -0.25j -0.25+0.j  ]]\n"
     ]
    }
   ],
   "source": [
    "from AriaQuanta.aqc.gatelibrary import H, X, RXX\n",
    "from AriaQuanta.aqc import Circuit\n",
    "import numpy as np\n",
    "\n",
    "qc = Circuit(3)\n",
    "qc |  H(0) | X(1) | RXX(np.pi/2,0,2)\n",
    "\n",
    "qc.run()\n",
    "\n",
    "measurement = qc.measure_all()\n",
    "\n",
    "print(\"\\nmeasurement result: \", measurement)\n",
    "\n",
    "print(\"\\nstate vector: \", qc.statevector)\n",
    "print(\"\\ndensity matrix: \", qc.density_matrix)"
   ]
  },
  {
   "cell_type": "markdown",
   "id": "b24e4b7e",
   "metadata": {},
   "source": [
    "## Output the probability plot using the statevector <a id=\"svtoprob\"></a>\n",
    "\n",
    "**Method:**\n",
    "\n",
    "def `AriaQuanta.aqc.Circuit.sv_to_probabilty(statevector, plot=True)`\n",
    "\n",
    "    return probabilty\n",
    "\n"
   ]
  },
  {
   "cell_type": "code",
   "execution_count": 21,
   "id": "0da64a2d",
   "metadata": {},
   "outputs": [
    {
     "name": "stdout",
     "output_type": "stream",
     "text": [
      "\n",
      "state vector:  [[0.        +0.j]\n",
      " [0.        +0.j]\n",
      " [0.70710678+0.j]\n",
      " [0.70710678+0.j]]\n",
      "\n",
      "density matrix:  [[0. +0.j 0. +0.j 0. +0.j 0. +0.j]\n",
      " [0. +0.j 0. +0.j 0. +0.j 0. +0.j]\n",
      " [0. +0.j 0. +0.j 0.5+0.j 0.5+0.j]\n",
      " [0. +0.j 0. +0.j 0.5+0.j 0.5+0.j]]\n",
      "\n",
      "probability:  {'00': np.float64(0.0), '01': np.float64(0.0), '10': np.float64(0.5), '11': np.float64(0.5)}\n"
     ]
    },
    {
     "data": {
      "image/png": "[encoded data removed]",
      "text/plain": [
       "<Figure size 640x480 with 1 Axes>"
      ]
     },
     "metadata": {},
     "output_type": "display_data"
    }
   ],
   "source": [
    "from AriaQuanta.aqc.gatelibrary import H, X\n",
    "from AriaQuanta.aqc import Circuit, sv_to_probabilty\n",
    "\n",
    "qc = Circuit(2)\n",
    "qc |  X(0) | H(1)\n",
    "\n",
    "qc.run()\n",
    "\n",
    "# ------------ default output\n",
    "print(\"\\nstate vector: \", qc.statevector)\n",
    "print(\"\\ndensity matrix: \", qc.density_matrix)\n",
    "\n",
    "probability = sv_to_probabilty(qc.statevector, plot=True)\n",
    "print(\"\\nprobability: \", probability)"
   ]
  },
  {
   "cell_type": "markdown",
   "id": "25653cbf",
   "metadata": {},
   "source": [
    "## Converting a circuit to a custom gate <a id=\"qctogate\"></a>\n",
    "\n",
    "The function `to_gate` will outputs a `CustomGate` representng the quantum circuit\n",
    "\n",
    "def `AriaQuanta.aqc.circuit.to_gate(Circuit)`\n",
    "\n",
    "**Usage:**\n",
    "\n",
    "circuit_gate = to_gate(Circuit):"
   ]
  },
  {
   "cell_type": "code",
   "execution_count": 22,
   "id": "3f014020",
   "metadata": {},
   "outputs": [
    {
     "name": "stdout",
     "output_type": "stream",
     "text": [
      "[[ 0.        +0.j  0.70710678+0.j  0.        +0.j  0.70710678+0.j]\n",
      " [ 0.70710678+0.j  0.5       +0.j  0.        +0.j -0.5       +0.j]\n",
      " [ 0.        +0.j  0.        +0.j  1.        +0.j  0.        +0.j]\n",
      " [ 0.70710678+0.j -0.5       +0.j  0.        +0.j  0.5       +0.j]]\n"
     ]
    }
   ],
   "source": [
    "from AriaQuanta.aqc.gatelibrary import H, X\n",
    "from AriaQuanta.aqc import Circuit, to_gate\n",
    "\n",
    "qc = Circuit(2)\n",
    "qc |  H(0) | X(1)\n",
    "\n",
    "qc_gate = to_gate(qc)\n",
    "\n",
    "print(qc_gate.matrix)"
   ]
  },
  {
   "cell_type": "markdown",
   "id": "0ff79935",
   "metadata": {},
   "source": [
    "# Operations on a circuit <a id=\"operations\"></a>\n",
    "\n",
    "There are other operations that can be applied. These operations consist of measuring and conditional gates. \n",
    "\n",
    "The `MeasureQubit` is a sub-classes of `Measure` that apply measurements on specific qubits of a quantum circuit. \n",
    "\n",
    "The `C_If` gate is used to apply a conditional gate afterwards a measurement. The sub-sections below show the usage of these operations."
   ]
  },
  {
   "cell_type": "markdown",
   "id": "ba80bf3d",
   "metadata": {},
   "source": [
    "## Measure gates <a id=\"measuregates\"></a>\n",
    "\n",
    "The measure class makes it available to add measure gates to a circuit, by measuring specific qubits. `MeasureQubit` measures the specific qubits, while keeping the dimenstion of the original statevector.\n",
    "\n",
    "**Class**:\n",
    "\n",
    "class `AriaQuanta.aqc.Measure (name, qubits, clbits, resize)`\n",
    "\n",
    "**Attributes**\n",
    "\n",
    "- name [str]\n",
    "- qubits [list of int]\n",
    "- clbits [list of int]\n",
    "- resize [Boolean] - whether to resize the final state or not\n",
    "- clbit_values_dict [dictionay of str(clbit values)]\n",
    "- qubit_values_dict [dictionay of str(qubit values)]\n",
    "\n",
    "**Sub-classes**\n",
    "\n",
    "class `AriaQuanta.aqc.MeasureQubit(Measure) (qubits, clbits=None)   \n",
    "        self.resize=False`\n",
    "                \n",
    "\n",
    "**Note**\n",
    "\n",
    "- If clbit is not defined, the IDs of the classical bits will be the `'q'+str(ID)`, where the ID is the IDs of the quantum bits. For example, for the q0 with ID '0', and measured value of 1. The two result dictionaries will be as below:\n",
    "\n",
    "    - qubit_values_dict = {'q0': 1}\n",
    "    - clbit_values_dict = {'c0': 1}\n",
    "    \n",
    "- It is possible to output the measurement result of `MeasureQubit` using the `Circuit.measurequbit_values`:\n",
    "\n",
    "    - Circuit.measurequbit_values = {'q0': '1', 'q1': '0', 'q2': '1'}\n"
   ]
  },
  {
   "cell_type": "code",
   "execution_count": 24,
   "id": "29967fef",
   "metadata": {},
   "outputs": [
    {
     "name": "stdout",
     "output_type": "stream",
     "text": [
      "{'q0': '', 'q1': '', 'q2': ''}\n",
      "\n",
      "state vector before measurement:\n",
      " [[0.       +0.j  ]\n",
      " [0.       +0.j  ]\n",
      " [0.4330127+0.25j]\n",
      " [0.4330127+0.25j]\n",
      " [0.       +0.j  ]\n",
      " [0.       +0.j  ]\n",
      " [0.4330127-0.25j]\n",
      " [0.4330127-0.25j]]\n"
     ]
    }
   ],
   "source": [
    "from AriaQuanta.aqc.circuit import Circuit\n",
    "from AriaQuanta.aqc.gatelibrary import H, X, RZZ\n",
    "\n",
    "import numpy as np\n",
    "\n",
    "\n",
    "#---------------------------------------------------------------\n",
    "# state vector before measurement\n",
    "\n",
    "qc = Circuit(3)\n",
    "qc | H(0) | X(1) | H(2)  | RZZ(np.pi/3,0,1)\n",
    "qc.run()\n",
    "\n",
    "print(qc.measurequbit_values)\n",
    "\n",
    "print(\"\\nstate vector before measurement:\\n\", qc.statevector)"
   ]
  },
  {
   "cell_type": "code",
   "execution_count": 1,
   "id": "5f657020",
   "metadata": {},
   "outputs": [
    {
     "name": "stdout",
     "output_type": "stream",
     "text": [
      "{'q0': '0', 'q1': '1', 'q2': '1'}\n",
      "\n",
      "state vector after measurement keeping the dimension:\n",
      " [[0.       +0.j ]\n",
      " [0.       +0.j ]\n",
      " [0.       +0.j ]\n",
      " [0.8660254+0.5j]\n",
      " [0.       +0.j ]\n",
      " [0.       +0.j ]\n",
      " [0.       +0.j ]\n",
      " [0.       +0.j ]]\n"
     ]
    }
   ],
   "source": [
    "from AriaQuanta.aqc import Circuit, MeasureQubit\n",
    "from AriaQuanta.aqc.gatelibrary import H, X, RZZ\n",
    "import numpy as np\n",
    "\n",
    "#---------------------------------------------------------------\n",
    "# statevector after the measurement\n",
    "\n",
    "qc = Circuit(3)\n",
    "qc | H(0) | X(1) | H(2)  | RZZ(np.pi/3,0,1) | MeasureQubit([0, 2]) | MeasureQubit([1]) \n",
    "\n",
    "qc.run()\n",
    "\n",
    "print(qc.measurequbit_values)\n",
    "\n",
    "print(\"\\nstate vector after measurement keeping the dimension:\\n\", qc.statevector)"
   ]
  },
  {
   "cell_type": "code",
   "execution_count": 2,
   "id": "19c2b564",
   "metadata": {},
   "outputs": [
    {
     "name": "stdout",
     "output_type": "stream",
     "text": [
      "{'q0': '0', 'q1': '1', 'q2': '0'}\n",
      "\n",
      "state vector after measurement:\n",
      " [[0.       +0.j ]\n",
      " [0.       +0.j ]\n",
      " [0.8660254+0.5j]\n",
      " [0.       +0.j ]\n",
      " [0.       +0.j ]\n",
      " [0.       +0.j ]\n",
      " [0.       +0.j ]\n",
      " [0.       +0.j ]]\n"
     ]
    }
   ],
   "source": [
    "# Example of measureing all the qubits simultaniously\n",
    "\n",
    "from AriaQuanta.aqc import Circuit, MeasureQubit\n",
    "from AriaQuanta.aqc.gatelibrary import H, X, RZZ\n",
    "\n",
    "import numpy as np\n",
    "\n",
    "qc = Circuit(3)\n",
    "qc | H(0) | X(1) | H(2)  | RZZ(np.pi/3,0,1) | MeasureQubit(list(range(3))) \n",
    "qc.run()\n",
    "\n",
    "print(qc.measurequbit_values)\n",
    "print(\"\\nstate vector after measurement:\\n\", qc.statevector)"
   ]
  },
  {
   "cell_type": "markdown",
   "id": "f13aefa3",
   "metadata": {},
   "source": [
    "## Conditional gates <a id=\"conditionalgates\"></a>\n",
    "\n",
    "The conditional gates are the gates applied to a circuit when the condition is satisfied. The gate is part of `Operations` class. \n",
    "\n",
    "**Class**:\n",
    "\n",
    "class `AriaQuanta.aqc.operations.Operations (name, conditions, operation_gate)`\n",
    "\n",
    "**Attributes**\n",
    "\n",
    "- name (str)\n",
    "- conditions (list): example is ['c1',1]\n",
    "- operation_gate (Gate object)\n",
    "- qubits (list of int): the qubits of the operation gate\n",
    "\n",
    "**Sub-classes**\n",
    "\n",
    "class `AriaQuanta.aqc.operations.If_cbit(Operations) (conditions, operation_gate)`       \n",
    "\n",
    "**Usage**\n",
    "\n",
    "from AriaQuanta.aqc.operations import If_cbit\n",
    "\n",
    "Circuit | If_cbit(['a',1],H(0))\n"
   ]
  },
  {
   "cell_type": "code",
   "execution_count": 3,
   "id": "14fae758",
   "metadata": {},
   "outputs": [
    {
     "name": "stdout",
     "output_type": "stream",
     "text": [
      "\n",
      "state vector after measurement:\n",
      " [[ 0.       +0.j ]\n",
      " [ 0.       +0.j ]\n",
      " [ 0.       +0.j ]\n",
      " [ 0.       +0.j ]\n",
      " [ 0.       +0.j ]\n",
      " [ 0.       +0.j ]\n",
      " [ 0.       +0.j ]\n",
      " [-0.8660254+0.5j]]\n"
     ]
    }
   ],
   "source": [
    "from AriaQuanta.aqc import Circuit, MeasureQubit, If_cbit\n",
    "from AriaQuanta.aqc.gatelibrary import *\n",
    "\n",
    "import numpy as np\n",
    "\n",
    "qc = Circuit(3,2)\n",
    "qc | H(0) | X(1) | H(2)  | RZZ(np.pi/3,0,1) | MeasureQubit([0, 2], ['a', 'c']) | If_cbit(['a',1],H(0))\n",
    "qc | MeasureQubit([0, 1, 2], ['a', 'b', 'c'])\n",
    "\n",
    "qc.run()\n",
    "print(\"\\nstate vector after measurement:\\n\", qc.statevector)"
   ]
  },
  {
   "cell_type": "markdown",
   "id": "08dfd458",
   "metadata": {},
   "source": [
    "## Noise gates <a id=\"noisegates\"></a>\n",
    "\n",
    "The noises in AriaQuanta are part of `NoiseClass`. The noises can applied to a circuit same as the gates using `|` operation.\n",
    "\n",
    "**Class**\n",
    "\n",
    "class `AriaQuanta.aqc.noise.NoiseClass (name, noise_gate, probability, target_qubits)`\n",
    "\n",
    "**Attributes**\n",
    "\n",
    "- name (str): name of the noise\n",
    "- noise_gate (Gate object): the gate that will be applied by the noise    \n",
    "- probability (float): the probability of applying noise_gate to the circuit\n",
    "- target_qubits (int): the qubit that the noise will apply on\n",
    "- qubits (list of int): same as target qubits\n",
    "        \n",
    "**Sub-Classes**\n",
    "\n",
    "- Bit-Flip Noise:\n",
    "\n",
    "class `BitFlipNoise(NoiseClass) (probability=1.0, target_qubits=-1):\n",
    "        noise_gate = X\n",
    "        name = \"BitFlip\"`\n",
    "\n",
    "- Depolarizing Noise:\n",
    "\n",
    "class `DepolarizingNoise(NoiseClass) (probability=1.0, target_qubits=-1):\n",
    "        noise_gate = Y\n",
    "        name = \"Depolarizing\"`\n",
    "        \n",
    "- Phase-Flip Noise:\n",
    "\n",
    "class `PhaseFlipNoise(NoiseClass) (probability=1.0, target_qubits=-1):\n",
    "        noise_gate = Z\n",
    "        name = \"PhaseFlip\"`\n",
    "\n",
    "**Notes** \n",
    "\n",
    "For applying the noise on a specific qubit, the user should identify the ID. When no ID is specified, the default value of -1 is considered. This means that the noise will be applied to a randomly-chosen qubit.\n",
    "\n",
    "**Usage**      \n",
    "\n",
    "Circuit | BitFlipNoise(0.1, 1)"
   ]
  },
  {
   "cell_type": "code",
   "execution_count": 4,
   "id": "ce50aedc",
   "metadata": {},
   "outputs": [
    {
     "name": "stdout",
     "output_type": "stream",
     "text": [
      "\n",
      "state vector:\n",
      " [[0. +0.j ]\n",
      " [0. +0.j ]\n",
      " [0. +0.5j]\n",
      " [0. +0.5j]\n",
      " [0.5+0.j ]\n",
      " [0.5+0.j ]\n",
      " [0. +0.j ]\n",
      " [0. +0.j ]]\n"
     ]
    }
   ],
   "source": [
    "#Example of adding noise to a circuit\n",
    "\n",
    "from AriaQuanta.aqc import Circuit, DepolarizingNoise, BitFlipNoise, PhaseFlipNoise\n",
    "from AriaQuanta.aqc.gatelibrary import *\n",
    "\n",
    "#-------------------------------------------------------\n",
    "\n",
    "qc = Circuit(3)\n",
    "\n",
    "qc | H(0) | CX(0,1) | H(2) | BitFlipNoise(0.8, 1) | DepolarizingNoise(0.05, 0) | S(1) | PhaseFlipNoise(0.2, 2)\n",
    "\n",
    "qc.run()\n",
    "print(\"\\nstate vector:\\n\", qc.statevector)"
   ]
  },
  {
   "cell_type": "code",
   "execution_count": 5,
   "id": "e993a984",
   "metadata": {},
   "outputs": [
    {
     "name": "stdout",
     "output_type": "stream",
     "text": [
      "\n",
      "counting measurement on the result:\n",
      " {'|00>': 456, '|01>': 44, '|10>': 47, '|11>': 453}\n",
      "\n",
      "probability of each state:\n",
      " {'|00>': 0.456, '|01>': 0.044, '|10>': 0.047, '|11>': 0.453}\n"
     ]
    },
    {
     "data": {
      "image/png": "[encoded data removed]",
      "text/plain": [
       "<Figure size 640x480 with 1 Axes>"
      ]
     },
     "metadata": {},
     "output_type": "display_data"
    },
    {
     "data": {
      "image/png": "[encoded data removed]",
      "text/plain": [
       "<Figure size 640x480 with 1 Axes>"
      ]
     },
     "metadata": {},
     "output_type": "display_data"
    }
   ],
   "source": [
    "# In the next section, we will see\n",
    "# how to run a circuit multiple times using backend\n",
    "# the code below shows how to use backend and get the probability of states\n",
    "\n",
    "from AriaQuanta.aqc.gatelibrary import *\n",
    "from AriaQuanta.aqc import Circuit, MeasureQubit, BitFlipNoise\n",
    "from AriaQuanta.backend import Simulator, plot_histogram\n",
    "\n",
    "\n",
    "#-------------------------------------------------\n",
    "qc = Circuit(3)\n",
    "qc |  H(0) | CX(0,1) | H(2) | BitFlipNoise(0.1,0) | MeasureQubit([0,1])\n",
    "\n",
    "sim = Simulator()\n",
    "result = sim.simulate(qc, 1000, 1)\n",
    "\n",
    "counts, probability = result.count()\n",
    "\n",
    "print('\\ncounting measurement on the result:\\n', counts)\n",
    "print('\\nprobability of each state:\\n', probability)\n",
    "\n",
    "plot_histogram(counts)\n",
    "plot_histogram(probability)"
   ]
  },
  {
   "cell_type": "markdown",
   "id": "b2d82c18",
   "metadata": {},
   "source": [
    "# Backend <a id=\"backend\"></a>\n",
    "\n",
    "An alternative way to run a circuit to the simple `Circuit.run()` command, is to use the backend. The backend has more advanced features and options for running a circuit. It is also suitable for dealing with large datasets, as it can be executed in parallel. The backend has three main classes, `Job`, `Simulator`, and `Result`, explained in the following.\n"
   ]
  },
  {
   "cell_type": "markdown",
   "id": "935da89f",
   "metadata": {},
   "source": [
    "## Job <a id=\"backendjob\"></a>\n",
    "\n",
    "**Class**\n",
    "\n",
    "- Job class: Used for managing a single job \n",
    "\n",
    "class `AriaQuanta.backend.job.Job (job_id)`\n",
    "\n",
    "**Attributes**\n",
    "\n",
    "- job_id [int]\n",
    "- status [string]: the information of the job status\n",
    "\n",
    "**Methods**\n",
    "\n",
    "- Run a job: input is a Circuit object, and the output is the statevector after running the job \n",
    "\n",
    "def `job_run(qc)\n",
    "        return statevector`\n",
    "        "
   ]
  },
  {
   "cell_type": "markdown",
   "id": "c849ba88",
   "metadata": {},
   "source": [
    "## Simulator <a id=\"backendsimulator\"></a>\n",
    "\n",
    "**Class**\n",
    "\n",
    "- Simulator class: Used for running a circuit for multiple times, managing the jobs, and outputing the result \n",
    "\n",
    "class `AriaQuanta.backend.simulator.Simulator()`\n",
    "\n",
    "**Attributes**\n",
    "\n",
    "- circuit [Circuit object]\n",
    "- iterations [int]: number of iterations\n",
    "\n",
    "**Methods**\n",
    "\n",
    "- Run a job by its job_id:\n",
    "\n",
    "def `loop_run(job_id)\n",
    "    return statevector_all [A list of numpy arrays of state vectors]`\n",
    "    \n",
    "- Simulate multiple jobs:\n",
    "\n",
    "def `simulate(circuit, iterations, num_nodes=1)\n",
    "     return result [Result object]`\n",
    "        \n",
    "**Note**\n",
    "\n",
    "**The num_nodes will specify the number of operations for parallel running (simultaneous circuit executation). The default value of 1 will run the simulation in serial.**  "
   ]
  },
  {
   "cell_type": "markdown",
   "id": "fa17bc8a",
   "metadata": {},
   "source": [
    "### Running a circuit using simulator and outputting result <a id=\"runsimulator\"></a>"
   ]
  },
  {
   "cell_type": "code",
   "execution_count": 1,
   "id": "36018939",
   "metadata": {},
   "outputs": [
    {
     "name": "stdout",
     "output_type": "stream",
     "text": [
      "\n",
      "state vector:\n",
      " [[1.+0.j]\n",
      " [0.+0.j]\n",
      " [0.+0.j]\n",
      " [0.+0.j]]\n",
      "\n",
      "density matrix:\n",
      " [[1.+0.j 0.+0.j 0.+0.j 0.+0.j]\n",
      " [0.+0.j 0.+0.j 0.+0.j 0.+0.j]\n",
      " [0.+0.j 0.+0.j 0.+0.j 0.+0.j]\n",
      " [0.+0.j 0.+0.j 0.+0.j 0.+0.j]]\n",
      "\n",
      "all the statevectors using simulator:\n",
      " (array([[0.+0.j],\n",
      "       [1.+0.j],\n",
      "       [0.+0.j],\n",
      "       [0.+0.j]]), array([[0.+0.j],\n",
      "       [0.+0.j],\n",
      "       [0.+0.j],\n",
      "       [1.+0.j]]), array([[0.+0.j],\n",
      "       [0.+0.j],\n",
      "       [1.+0.j],\n",
      "       [0.+0.j]]), array([[0.+0.j],\n",
      "       [0.+0.j],\n",
      "       [1.+0.j],\n",
      "       [0.+0.j]]), array([[0.+0.j],\n",
      "       [1.+0.j],\n",
      "       [0.+0.j],\n",
      "       [0.+0.j]]))\n"
     ]
    }
   ],
   "source": [
    "from AriaQuanta.aqc.gatelibrary import *\n",
    "from AriaQuanta.aqc import Circuit, MeasureQubit, BitFlipNoise\n",
    "from AriaQuanta.backend import Simulator\n",
    "\n",
    "#-------------------------------------------------\n",
    "qc = Circuit(2)\n",
    "qc |  H(0) | X(1) | BitFlipNoise(0.5,1) | MeasureQubit([0],['c1'])\n",
    "\n",
    "qc.run()\n",
    "print(\"\\nstate vector:\\n\", qc.statevector)\n",
    "print(\"\\ndensity matrix:\\n\", qc.density_matrix)\n",
    "\n",
    "#-------------------------------------------------\n",
    "qc = Circuit(2)\n",
    "qc |  H(0) | X(1) | BitFlipNoise(0.5,1) | MeasureQubit([0],['c1'])\n",
    "\n",
    "sim = Simulator()\n",
    "result = sim.simulate(qc, 5, 1)\n",
    "\n",
    "print(\"\\nall the statevectors using simulator:\\n\", result.statevector_all)"
   ]
  },
  {
   "cell_type": "markdown",
   "id": "742d2afa",
   "metadata": {},
   "source": [
    "## Result <a id=\"backendresult\"></a>\n",
    "\n",
    "The `Result` class has the features of the ouputs of running a circuit using simulator. \n",
    "\n",
    "**Class**\n",
    "\n",
    "class `AriaQuanta.backend.result.Result() (statevector_all)`\n",
    "\n",
    "**Attributes**\n",
    "\n",
    "- statevector_all [list of numpy array]\n",
    "\n",
    "- density_matrix_all [list of numpy array]\n",
    "\n",
    "**Methods**\n",
    "\n",
    "- count the states and find the probabilities:\n",
    "\n",
    "The output is the dictionary of counts and probabilities of result.statevector_all\n",
    "\n",
    "def `count() \n",
    "return counts, probability`\n",
    "        \n",
    "\n",
    "**Other functions in the result module**\n",
    "\n",
    "- statevector to density matrix conversion:\n",
    "\n",
    "def `sv_to_density_matrix(statevector)    \n",
    "return density_matrix`\n",
    "\n",
    "- plot histogram of a counts or probabilities:\n",
    "\n",
    "The input is a dictionary of keys and values to be plotted.\n",
    "\n",
    "def `plot_histogram(counter)`\n"
   ]
  },
  {
   "cell_type": "markdown",
   "id": "0c2c7a5a",
   "metadata": {},
   "source": [
    "### Result object and its features <a id=\"runresult\"></a>"
   ]
  },
  {
   "cell_type": "code",
   "execution_count": 2,
   "id": "2165615c",
   "metadata": {},
   "outputs": [
    {
     "name": "stdout",
     "output_type": "stream",
     "text": [
      "\n",
      "all the statevectors using simulator:\n",
      " (array([[0.       +0.j ],\n",
      "       [0.       +0.j ],\n",
      "       [0.       +0.j ],\n",
      "       [0.8660254-0.5j]]), array([[0.       +0.j ],\n",
      "       [0.       +0.j ],\n",
      "       [0.8660254-0.5j],\n",
      "       [0.       +0.j ]]), array([[0.8660254+0.5j],\n",
      "       [0.       +0.j ],\n",
      "       [0.       +0.j ],\n",
      "       [0.       +0.j ]]), array([[0.       +0.j ],\n",
      "       [0.8660254+0.5j],\n",
      "       [0.       +0.j ],\n",
      "       [0.       +0.j ]]), array([[0.       +0.j ],\n",
      "       [0.       +0.j ],\n",
      "       [0.8660254-0.5j],\n",
      "       [0.       +0.j ]]))\n",
      "\n",
      "all density matrices using simulator:\n",
      " [array([[0. +0.j       , 0. +0.j       , 0. +0.j       , 0. +0.j       ],\n",
      "       [0. +0.j       , 0. +0.j       , 0. +0.j       , 0. +0.j       ],\n",
      "       [0. +0.j       , 0. +0.j       , 0. +0.j       , 0. +0.j       ],\n",
      "       [0. +0.j       , 0. +0.j       , 0. +0.j       , 0.5-0.8660254j]]), array([[0. +0.j       , 0. +0.j       , 0. +0.j       , 0. +0.j       ],\n",
      "       [0. +0.j       , 0. +0.j       , 0. +0.j       , 0. +0.j       ],\n",
      "       [0. +0.j       , 0. +0.j       , 0.5-0.8660254j, 0. +0.j       ],\n",
      "       [0. +0.j       , 0. +0.j       , 0. +0.j       , 0. +0.j       ]]), array([[0.5+0.8660254j, 0. +0.j       , 0. +0.j       , 0. +0.j       ],\n",
      "       [0. +0.j       , 0. +0.j       , 0. +0.j       , 0. +0.j       ],\n",
      "       [0. +0.j       , 0. +0.j       , 0. +0.j       , 0. +0.j       ],\n",
      "       [0. +0.j       , 0. +0.j       , 0. +0.j       , 0. +0.j       ]]), array([[0. +0.j       , 0. +0.j       , 0. +0.j       , 0. +0.j       ],\n",
      "       [0. +0.j       , 0.5+0.8660254j, 0. +0.j       , 0. +0.j       ],\n",
      "       [0. +0.j       , 0. +0.j       , 0. +0.j       , 0. +0.j       ],\n",
      "       [0. +0.j       , 0. +0.j       , 0. +0.j       , 0. +0.j       ]]), array([[0. +0.j       , 0. +0.j       , 0. +0.j       , 0. +0.j       ],\n",
      "       [0. +0.j       , 0. +0.j       , 0. +0.j       , 0. +0.j       ],\n",
      "       [0. +0.j       , 0. +0.j       , 0.5-0.8660254j, 0. +0.j       ],\n",
      "       [0. +0.j       , 0. +0.j       , 0. +0.j       , 0. +0.j       ]])]\n",
      "\n",
      "convert one statevector to density matrix:\n",
      " [[0. +0.j        0. +0.j        0. +0.j        0. +0.j       ]\n",
      " [0. +0.j        0. +0.j        0. +0.j        0. +0.j       ]\n",
      " [0. +0.j        0. +0.j        0. +0.j        0. +0.j       ]\n",
      " [0. +0.j        0. +0.j        0. +0.j        0.5-0.8660254j]]\n"
     ]
    }
   ],
   "source": [
    "# Example of Result object and its features\n",
    "# statevector_all, density_matrix_all\n",
    "# and to_density_matrix() function\n",
    "\n",
    "from AriaQuanta.aqc.gatelibrary import *\n",
    "from AriaQuanta.aqc import Circuit, MeasureQubit, BitFlipNoise\n",
    "from AriaQuanta.backend import Simulator, sv_to_density_matrix\n",
    "\n",
    "import numpy as np\n",
    "\n",
    "#-------------------------------------------------\n",
    "qc = Circuit(2)\n",
    "qc |  H(0) | X(1) | RZZ(np.pi/3,1) | BitFlipNoise(0.5,1) | MeasureQubit([0],['c1'])\n",
    "\n",
    "sim = Simulator()\n",
    "result = sim.simulate(qc, 5, 1)\n",
    "\n",
    "statevector_all = result.statevector_all\n",
    "density_matrix_all = result.density_matrix_all\n",
    "\n",
    "# convert one statevector to density matrix\n",
    "density_matrix_one = sv_to_density_matrix(statevector_all[0])\n",
    "\n",
    "#-------------------------------------------------\n",
    "print(\"\\nall the statevectors using simulator:\\n\", statevector_all)\n",
    "print(\"\\nall density matrices using simulator:\\n\", density_matrix_all)\n",
    "print(\"\\nconvert one statevector to density matrix:\\n\", density_matrix_one)\n"
   ]
  },
  {
   "cell_type": "code",
   "execution_count": 28,
   "id": "15b930fb",
   "metadata": {},
   "outputs": [
    {
     "name": "stdout",
     "output_type": "stream",
     "text": [
      "\n",
      "state vector:\n",
      " [[0]\n",
      " [1]]\n",
      "\n",
      "density matrix:\n",
      " [[0 0]\n",
      " [0 1]]\n",
      "\n",
      "measurement =\n",
      " |1>\n",
      "----------------------\n",
      "\n",
      "counting measurement on the result:\n",
      " {'|0>': 489, '|1>': 511}\n",
      "\n",
      "probability of each state:\n",
      " {'|0>': 0.489, '|1>': 0.511}\n"
     ]
    },
    {
     "data": {
      "image/png": "[encoded data removed]",
      "text/plain": [
       "<Figure size 640x480 with 1 Axes>"
      ]
     },
     "metadata": {},
     "output_type": "display_data"
    },
    {
     "data": {
      "image/png": "[encoded data removed]",
      "text/plain": [
       "<Figure size 640x480 with 1 Axes>"
      ]
     },
     "metadata": {},
     "output_type": "display_data"
    }
   ],
   "source": [
    "#Plotting histograms of counts and probability for 1-qubit system\n",
    "\n",
    "from AriaQuanta.aqc.gatelibrary import *\n",
    "from AriaQuanta.aqc.circuit import Circuit\n",
    "from AriaQuanta.backend import Simulator, plot_histogram\n",
    "\n",
    "#-------------------------------------------------\n",
    "qc = Circuit(1)\n",
    "qc |  X(0) \n",
    "\n",
    "qc.run()\n",
    "print(\"\\nstate vector:\\n\", qc.statevector)\n",
    "print(\"\\ndensity matrix:\\n\", qc.density_matrix)\n",
    "\n",
    "measurement = qc.measure_all()\n",
    "print('\\nmeasurement =\\n', measurement)\n",
    "\n",
    "#-------------------------------------------------\n",
    "qc = Circuit(1)\n",
    "qc |  H(0) \n",
    "\n",
    "sim = Simulator()\n",
    "result = sim.simulate(qc, 1000, 1)\n",
    "\n",
    "counts, probability = result.count()\n",
    "\n",
    "print('----------------------')\n",
    "print('\\ncounting measurement on the result:\\n', counts)\n",
    "print('\\nprobability of each state:\\n', probability)\n",
    "\n",
    "plot_histogram(counts)\n",
    "plot_histogram(probability)\n"
   ]
  },
  {
   "cell_type": "code",
   "execution_count": 3,
   "id": "5acfb5db",
   "metadata": {},
   "outputs": [
    {
     "name": "stdout",
     "output_type": "stream",
     "text": [
      "\n",
      "counting measurement on the result:\n",
      " {'|000>': 0, '|001>': 0, '|010>': 245, '|011>': 257, '|100>': 0, '|101>': 0, '|110>': 243, '|111>': 255}\n",
      "\n",
      "probability of each state:\n",
      " {'|000>': 0.0, '|001>': 0.0, '|010>': 0.245, '|011>': 0.257, '|100>': 0.0, '|101>': 0.0, '|110>': 0.243, '|111>': 0.255}\n"
     ]
    }
   ],
   "source": [
    "# Example of measuring Result and outputting counts and probabilities\n",
    "\n",
    "from AriaQuanta.aqc.gatelibrary import X, H\n",
    "from AriaQuanta.aqc import Circuit\n",
    "from AriaQuanta.backend import Simulator\n",
    "\n",
    "#-------------------------------------------------\n",
    "qc = Circuit(3)\n",
    "qc |  H(0) | X(1) | H(2)\n",
    "\n",
    "sim = Simulator()\n",
    "result = sim.simulate(qc, 1000, 1)\n",
    "\n",
    "counts, probability = result.count()\n",
    "\n",
    "print('\\ncounting measurement on the result:\\n', counts)\n",
    "print('\\nprobability of each state:\\n', probability)"
   ]
  },
  {
   "cell_type": "code",
   "execution_count": 4,
   "id": "2a4a62e2",
   "metadata": {},
   "outputs": [
    {
     "name": "stdout",
     "output_type": "stream",
     "text": [
      "\n",
      "counting measurement on the result:\n",
      " {'|000>': 0, '|001>': 0, '|010>': 248, '|011>': 258, '|100>': 0, '|101>': 0, '|110>': 245, '|111>': 249}\n",
      "\n",
      "probability of each state:\n",
      " {'|000>': 0.0, '|001>': 0.0, '|010>': 0.248, '|011>': 0.258, '|100>': 0.0, '|101>': 0.0, '|110>': 0.245, '|111>': 0.249}\n"
     ]
    },
    {
     "data": {
      "image/png": "[encoded data removed]",
      "text/plain": [
       "<Figure size 640x480 with 1 Axes>"
      ]
     },
     "metadata": {},
     "output_type": "display_data"
    },
    {
     "data": {
      "image/png": "[encoded data removed]",
      "text/plain": [
       "<Figure size 640x480 with 1 Axes>"
      ]
     },
     "metadata": {},
     "output_type": "display_data"
    }
   ],
   "source": [
    "#Plotting histograms of counts and probability\n",
    "\n",
    "from AriaQuanta.aqc.gatelibrary import *\n",
    "from AriaQuanta.aqc import Circuit\n",
    "from AriaQuanta.backend import Simulator, plot_histogram\n",
    "\n",
    "#-------------------------------------------------\n",
    "qc = Circuit(3)\n",
    "qc |  H(0) | X(1) | H(2)\n",
    "\n",
    "sim = Simulator()\n",
    "result = sim.simulate(qc, 1000, 1)\n",
    "\n",
    "counts, probability = result.count()\n",
    "\n",
    "print('\\ncounting measurement on the result:\\n', counts)\n",
    "print('\\nprobability of each state:\\n', probability)\n",
    "\n",
    "plot_histogram(counts)\n",
    "plot_histogram(probability)"
   ]
  },
  {
   "cell_type": "markdown",
   "id": "a41f4320",
   "metadata": {},
   "source": [
    "# Quantum Algorithms <a id=\"algorithms\"></a>\n"
   ]
  },
  {
   "cell_type": "markdown",
   "id": "bbcb5a9e",
   "metadata": {},
   "source": [
    "## Bernestein-Vazirani <a id=\"bv_algorithm\"></a>"
   ]
  },
  {
   "cell_type": "code",
   "execution_count": 5,
   "id": "e78dc143",
   "metadata": {},
   "outputs": [
    {
     "name": "stdout",
     "output_type": "stream",
     "text": [
      "\n",
      "counting measurement on the result:\n",
      " {'|00>': 0, '|01>': 0, '|10>': 1000, '|11>': 0}\n"
     ]
    },
    {
     "data": {
      "image/png": "[encoded data removed]",
      "text/plain": [
       "<Figure size 640x480 with 1 Axes>"
      ]
     },
     "metadata": {},
     "output_type": "display_data"
    }
   ],
   "source": [
    "from AriaQuanta.aqc import Circuit, MeasureQubit\n",
    "from AriaQuanta.aqc.gatelibrary import H, CX, Z, I\n",
    "from AriaQuanta.backend import Simulator, plot_histogram\n",
    "\n",
    "#-------------------------------------------------------------------\n",
    "# Bernestein-Vazirani Algorithm\n",
    "\n",
    "qc = Circuit(3)\n",
    "\n",
    "qc | H(0) | H(1) | H(2) | Z(2) | CX(0,2) | H(0) | H(1) | MeasureQubit([0,1])\n",
    "\n",
    "sim = Simulator()\n",
    "result = sim.simulate(qc, 1000, 1)\n",
    "\n",
    "counts, probability = result.count()\n",
    "\n",
    "print('\\ncounting measurement on the result:\\n', counts)\n",
    "\n",
    "plot_histogram(counts)\n",
    "\n",
    "# It outputs '10' meaning that the first qubit q0=1, and the second qubit q1=0\n",
    "# In some libraries, they use the reverse order, where the first number if the q1, and the second is q0"
   ]
  },
  {
   "cell_type": "markdown",
   "id": "a54e422b",
   "metadata": {},
   "source": [
    "## Teleportation <a id=\"teleportation\"></a>"
   ]
  },
  {
   "cell_type": "code",
   "execution_count": 7,
   "id": "844d52fa",
   "metadata": {},
   "outputs": [
    {
     "name": "stdout",
     "output_type": "stream",
     "text": [
      "\n",
      "q0 state =\n",
      " [[0.3      ]\n",
      " [0.9539392]]\n",
      "\n",
      "q1 state =\n",
      " [[1.]\n",
      " [0.]]\n",
      "\n",
      "q2 state =\n",
      " [[1.]\n",
      " [0.]]\n",
      "\n",
      "initial state of the circuit:\n",
      " [[0.3      ]\n",
      " [0.       ]\n",
      " [0.       ]\n",
      " [0.       ]\n",
      " [0.9539392]\n",
      " [0.       ]\n",
      " [0.       ]\n",
      " [0.       ]]\n",
      "\n",
      "Bob's statevector:\n",
      " [[0.3      +0.j]\n",
      " [0.9539392+0.j]\n",
      " [0.       +0.j]\n",
      " [0.       +0.j]\n",
      " [0.       +0.j]\n",
      " [0.       +0.j]\n",
      " [0.       +0.j]\n",
      " [0.       +0.j]]\n"
     ]
    }
   ],
   "source": [
    "# Teleportation with simple run\n",
    "\n",
    "from AriaQuanta.aqc import Circuit, MeasureQubit, If_cbit, create_state\n",
    "from AriaQuanta.aqc.gatelibrary import H, CX, Z, X\n",
    "\n",
    "#--------------------------------------------------\n",
    "# define qubits with optional states\n",
    "\n",
    "alpha = 0.3\n",
    "# create qubit=0 with state alpha|0>+beta|1>\n",
    "q0 = create_state(0,alpha) \n",
    "\n",
    "# create qubit=1 with state |0>\n",
    "q1 = create_state(1,1)\n",
    "\n",
    "# create qubit=2 with state |0>\n",
    "q2 = create_state(2,1)\n",
    "\n",
    "print(\"\\nq0 state =\\n\", q0.state)\n",
    "print(\"\\nq1 state =\\n\", q1.state)\n",
    "print(\"\\nq2 state =\\n\", q2.state)\n",
    "\n",
    "#--------------------------------------------------\n",
    "# add qubits to a circuit\n",
    "qc = Circuit(3, list_of_qubits=[q0, q1, q2])\n",
    "\n",
    "print(\"\\ninitial state of the circuit:\\n\", qc.statevector)\n",
    "\n",
    "#--------------------------------------------------\n",
    "# Make the shared entangled state \n",
    "qc | H(1)\n",
    "qc | CX(1, 2)\n",
    "\n",
    "# Alice applies teleportation gates (or projects to Bell basis)\n",
    "qc | CX(0, 1)\n",
    "qc | H(0)\n",
    "\n",
    "# Alice measures her qubits\n",
    "qc | MeasureQubit([0,1], ['a','b'])\n",
    "\n",
    "# Bob applies certain gates based on the outcome of Alice's measurements\n",
    "qc | If_cbit(['a',1], Z(2))\n",
    "qc | If_cbit(['b',1], X(2))\n",
    "\n",
    "#--------------------------------------------------\n",
    "# simple run and output the statevector\n",
    "# Bob checks the state of the teleported qubit\n",
    "qc.run()\n",
    "print(\"\\nBob's statevector:\\n\", qc.statevector)"
   ]
  },
  {
   "cell_type": "code",
   "execution_count": 8,
   "id": "b416c8f6",
   "metadata": {},
   "outputs": [
    {
     "name": "stdout",
     "output_type": "stream",
     "text": [
      "\n",
      "q0 state =\n",
      " [[0.3      ]\n",
      " [0.9539392]]\n",
      "\n",
      "q1 state =\n",
      " [[1.]\n",
      " [0.]]\n",
      "\n",
      "q2 state =\n",
      " [[1.]\n",
      " [0.]]\n",
      "\n",
      "initial state of the circuit:\n",
      " [[0.3      ]\n",
      " [0.       ]\n",
      " [0.       ]\n",
      " [0.       ]\n",
      " [0.9539392]\n",
      " [0.       ]\n",
      " [0.       ]\n",
      " [0.       ]]\n",
      "\n",
      "statevector: [[ 0.       +0.j]\n",
      " [ 0.       +0.j]\n",
      " [ 0.       +0.j]\n",
      " [ 0.       +0.j]\n",
      " [ 0.       +0.j]\n",
      " [ 0.       +0.j]\n",
      " [-0.3      +0.j]\n",
      " [-0.9539392+0.j]]\n",
      "\n",
      "Bob's statevector:\n",
      " [[-0.3      +0.j]\n",
      " [-0.9539392+0.j]]\n",
      "\n",
      "counting measurement on the result:\n",
      " {'|0>': 97, '|1>': 903}\n"
     ]
    },
    {
     "data": {
      "image/png": "[encoded data removed]",
      "text/plain": [
       "<Figure size 640x480 with 1 Axes>"
      ]
     },
     "metadata": {},
     "output_type": "display_data"
    }
   ],
   "source": [
    "# Teleportation with backend\n",
    "\n",
    "from AriaQuanta.aqc import Circuit, MeasureQubit, If_cbit, create_state\n",
    "from AriaQuanta.aqc.gatelibrary import H, CX, Z, X\n",
    "from AriaQuanta.backend import Simulator, plot_histogram\n",
    "\n",
    "#--------------------------------------------------\n",
    "# define qubits with optional states\n",
    "\n",
    "alpha = 0.3\n",
    "# create qubit=0 with state alpha|0>+beta|1>\n",
    "q0 = create_state(0,alpha) \n",
    "\n",
    "# create qubit=1 with state |0>\n",
    "q1 = create_state(1,1)\n",
    "\n",
    "# create qubit=2 with state |0>\n",
    "q2 = create_state(2,1)\n",
    "\n",
    "print(\"\\nq0 state =\\n\", q0.state)\n",
    "print(\"\\nq1 state =\\n\", q1.state)\n",
    "print(\"\\nq2 state =\\n\", q2.state)\n",
    "\n",
    "#--------------------------------------------------\n",
    "# add qubits to a circuit\n",
    "qc = Circuit(3, list_of_qubits=[q0, q1, q2])\n",
    "\n",
    "print(\"\\ninitial state of the circuit:\\n\", qc.statevector)\n",
    "\n",
    "#--------------------------------------------------\n",
    "# Make the shared entangled state \n",
    "qc | H(1)\n",
    "qc | CX(1, 2)\n",
    "\n",
    "# Alice applies teleportation gates (or projects to Bell basis)\n",
    "qc | CX(0, 1)\n",
    "qc | H(0)\n",
    "\n",
    "# Alice measures her qubits\n",
    "qc | MeasureQubit([0,1], ['a','b'])\n",
    "\n",
    "# Bob applies certain gates based on the outcome of Alice's measurements\n",
    "qc | If_cbit(['a',1], Z(2))\n",
    "qc | If_cbit(['b',1], X(2))\n",
    "\n",
    "#--------------------------------------------------\n",
    "# Use the backend\n",
    "# Run the algorithm\n",
    "sim = Simulator()\n",
    "result = sim.simulate(qc, 1000, 1)\n",
    "\n",
    "# statevector for 3-qubits\n",
    "statevector = result.statevector_all[0]\n",
    "\n",
    "# statevector removing the measured qubits\n",
    "bob_statevector = result.statevector_all_measured()[0]\n",
    "\n",
    "print(\"\\nstatevector:\", statevector)\n",
    "print(\"\\nBob's statevector:\\n\", bob_statevector)\n",
    "\n",
    "#Shows the results obtained from the quantum algorithm \n",
    "# result.count() -> will count the measured qubits, here 'q0' and 'q1'. when there is no measurement, it outputs all the qubits\n",
    "# result.count([list]) -> will count the qubits in the list\n",
    "\n",
    "counts, probability = result.count(['q2'])\n",
    "print('\\ncounting measurement on the result:\\n', counts)\n",
    "plot_histogram(probability)"
   ]
  },
  {
   "cell_type": "markdown",
   "id": "1a0858b5",
   "metadata": {},
   "source": [
    "## Deutsch Jozsa Algorithm <a id=\"djalgorithm\"></a>"
   ]
  },
  {
   "cell_type": "code",
   "execution_count": 3,
   "id": "2be35fa5",
   "metadata": {},
   "outputs": [
    {
     "name": "stdout",
     "output_type": "stream",
     "text": [
      "Deutsch Jozsa Algorithm\n",
      "measurement =  1111\n",
      "Function is balanced\n"
     ]
    },
    {
     "data": {
      "image/png": "[encoded data removed]",
      "text/plain": [
       "<Figure size 1960x450 with 1 Axes>"
      ]
     },
     "metadata": {},
     "output_type": "display_data"
    }
   ],
   "source": [
    "from AriaQuanta.algorithms import dj\n",
    "from AriaQuanta.aqc import CircuitVisualizer\n",
    "\n",
    "print(\"Deutsch Jozsa Algorithm\")\n",
    "\n",
    "# dj function:\n",
    "# qc = dj(n_qubits, is_constant=True)\n",
    "\n",
    "n_qubits = 4\n",
    "qc_dj = dj(n_qubits, is_constant=False) # number of qubits and constant/balanced\n",
    "\n",
    "qc_dj.run()\n",
    "measurement = qc_dj.measure_all()\n",
    "\n",
    "print(\"measurement = \", measurement[1:n_qubits+1])\n",
    "\n",
    "# Analyze the result\n",
    "# If result is all |0⟩, the function is constant; otherwise, it's balanced.\n",
    "if measurement == '0' * n_qubits:\n",
    "    output = \"Function is constant\"\n",
    "else:\n",
    "    output = \"Function is balanced\"\n",
    "\n",
    "print(output)\n",
    "\n",
    "visualizer = CircuitVisualizer(qc_dj)\n",
    "fig, ax = visualizer.visualize()"
   ]
  },
  {
   "cell_type": "markdown",
   "id": "7fb271b7",
   "metadata": {},
   "source": [
    "## Grover's Algorithm  <a id=\"grover\"></a>"
   ]
  },
  {
   "cell_type": "code",
   "execution_count": 7,
   "id": "7de455b3",
   "metadata": {},
   "outputs": [
    {
     "name": "stdout",
     "output_type": "stream",
     "text": [
      "measurement =  |011>\n"
     ]
    },
    {
     "data": {
      "image/png": "[encoded data removed]",
      "text/plain": [
       "<Figure size 4900x270 with 1 Axes>"
      ]
     },
     "metadata": {},
     "output_type": "display_data"
    }
   ],
   "source": [
    "# \"Grover's Algorithm\"\n",
    "\n",
    "from AriaQuanta.algorithms import grover\n",
    "from AriaQuanta.aqc import CircuitVisualizer\n",
    "\n",
    "# grover function:\n",
    "# qc = grover(n, target_state)\n",
    "\n",
    "qc_grover = grover(3, \"011\")\n",
    "\n",
    "qc_grover.run()\n",
    "measurement = qc_grover.measure_all()\n",
    "\n",
    "print(\"measurement = \", measurement)\n",
    "\n",
    "visualizer = CircuitVisualizer(qc_grover)\n",
    "fig, ax = visualizer.visualize() "
   ]
  },
  {
   "cell_type": "markdown",
   "id": "2080143f",
   "metadata": {},
   "source": [
    "## Quantum Fourier Transform <a id=\"qft\"></a>"
   ]
  },
  {
   "cell_type": "code",
   "execution_count": 8,
   "id": "45c789e5",
   "metadata": {},
   "outputs": [
    {
     "name": "stdout",
     "output_type": "stream",
     "text": [
      "QFT Algorithm\n"
     ]
    },
    {
     "data": {
      "image/png": "[encoded data removed]",
      "text/plain": [
       "<Figure size 1680x360 with 1 Axes>"
      ]
     },
     "metadata": {},
     "output_type": "display_data"
    }
   ],
   "source": [
    "# \"QFT's Algorithm\"\n",
    "\n",
    "from AriaQuanta.algorithms import qft\n",
    "from AriaQuanta.aqc import Circuit, CircuitVisualizer\n",
    "\n",
    "print(\"QFT Algorithm\")\n",
    "\n",
    "# qft function:\n",
    "# qc = qft(qc, qubits)\n",
    "\n",
    "qc_qft = Circuit(4)\n",
    "qc_qft = qft(qc_qft, [0,1,2,3])\n",
    "\n",
    "visualizer = CircuitVisualizer(qc_qft)\n",
    "fig, ax = visualizer.visualize()\n"
   ]
  },
  {
   "cell_type": "markdown",
   "id": "f6a707f1",
   "metadata": {},
   "source": [
    "## Inverse Quantum Fourier Transform <a id=\"iqft\"></a>"
   ]
  },
  {
   "cell_type": "code",
   "execution_count": 9,
   "id": "aadf0ac2",
   "metadata": {
    "scrolled": true
   },
   "outputs": [
    {
     "name": "stdout",
     "output_type": "stream",
     "text": [
      "IQFT Algorithm\n"
     ]
    },
    {
     "data": {
      "image/png": "[encoded data removed]",
      "text/plain": [
       "<Figure size 1680x360 with 1 Axes>"
      ]
     },
     "metadata": {},
     "output_type": "display_data"
    }
   ],
   "source": [
    "from AriaQuanta.algorithms import iqft\n",
    "from AriaQuanta.aqc import Circuit, CircuitVisualizer\n",
    "\n",
    "print(\"IQFT Algorithm\")\n",
    "\n",
    "# iqft function:\n",
    "# qc = iqft(qc, qubits)\n",
    "\n",
    "qc_qft = Circuit(4)\n",
    "qc_qft = iqft(qc_qft, [0,1,2,3])\n",
    "\n",
    "visualizer = CircuitVisualizer(qc_qft)\n",
    "fig4, ax4 = visualizer.visualize()"
   ]
  },
  {
   "cell_type": "markdown",
   "id": "0f4bb5e7",
   "metadata": {},
   "source": [
    "## Quantum Phase Estimation <a id=\"qpe\"></a>"
   ]
  },
  {
   "cell_type": "code",
   "execution_count": 10,
   "id": "05d7626a",
   "metadata": {},
   "outputs": [
    {
     "name": "stdout",
     "output_type": "stream",
     "text": [
      "QPE Algorithm\n"
     ]
    },
    {
     "data": {
      "image/png": "[encoded data removed]",
      "text/plain": [
       "<Figure size 2380x360 with 1 Axes>"
      ]
     },
     "metadata": {},
     "output_type": "display_data"
    }
   ],
   "source": [
    "from AriaQuanta.algorithms import qpe\n",
    "from AriaQuanta.aqc import CircuitVisualizer\n",
    "from AriaQuanta.aqc.gatelibrary import H\n",
    "\n",
    "print(\"QPE Algorithm\")\n",
    "\n",
    "# qpe function:\n",
    "# qc = qpe(unitary_matrix, t_counting_qubits, namedraw='CU')\n",
    "\n",
    "matrix = H().matrix\n",
    "qc_qpe = qpe(matrix, 3, 'H')\n",
    "\n",
    "visualizer = CircuitVisualizer(qc_qpe)\n",
    "fig5, ax5 = visualizer.visualize() "
   ]
  },
  {
   "cell_type": "markdown",
   "id": "4b96f267-1b64-4341-a605-7e5bf84398aa",
   "metadata": {},
   "source": [
    "## Variational Quantum Eigensolver (VQE) <a id=\"vqe\"></a>\n",
    "\n",
    "The variational quantum eigensolver (VQE) is used to solve quantum hamiltoninans. At first, one needs to expand the **hamiltoninan** based on pauli operators, and also define a parametrized circuit, called **ansatz**. The algorithm optimizes the ansatz's parameters and finds the minimum energy.\n",
    "\n",
    "In the following we first start by  defining hamiltinian, ansatz, and some pre-defined ansatz in Aria Quanta, We then give different examples of how to perform VQE."
   ]
  },
  {
   "cell_type": "markdown",
   "id": "ad2b52b2",
   "metadata": {},
   "source": [
    "## Hamiltonian <a id=\"hamiltonian\"></a>\n",
    "\n",
    "The `Hamiltonian` class is used to define quantum hamiltonian based on pauli operators.\n",
    "\n",
    "**Class**\n",
    "\n",
    "- class `AriaQuanta.aqc.eigen_solver.Hamiltonian (terms)`\n",
    "\n",
    "**Attributes**\n",
    "- terms: list of tuples\n",
    "    - example: [('Z1', 0.5), ('X2Z3, 0.3)]\n",
    "- paulis: list of strings\n",
    "    - example: ['Z1', 'X2Z3']\n",
    "- coeffs: numpy array\n",
    "    -   example: [0.5, 0.3]\n",
    "\n",
    "**Other functions**\n",
    "\n",
    "- def `find_expectation_value(circuit, num_of_iter_measure)`\n",
    "returns the expectation_value\n",
    "\n",
    "The example below shows defining hamiltonian in Aria Quanta:"
   ]
  },
  {
   "cell_type": "code",
   "execution_count": 1,
   "id": "e9487128",
   "metadata": {},
   "outputs": [
    {
     "name": "stdout",
     "output_type": "stream",
     "text": [
      "terms:  [('I', -1.0524), ('Z0', 0.3979), ('Z1', -0.3979), ('Z0Z1', -0.0113), ('X0X1', 0.1809)]\n",
      "paulis:  ['I', 'Z0', 'Z1', 'Z0Z1', 'X0X1']\n",
      "coefs:  [-1.0524  0.3979 -0.3979 -0.0113  0.1809]\n"
     ]
    }
   ],
   "source": [
    "from AriaQuanta.algorithms import Hamiltonian\n",
    "\n",
    "h2_terms = [\n",
    "    (\"I\", -1.0524),    # Identity term\n",
    "    (\"Z0\", 0.3979),    # Pauli Z on qubit 0\n",
    "    (\"Z1\", -0.3979),   # Pauli Z on qubit 1\n",
    "    (\"Z0Z1\", -0.0113), # Pauli ZZ interaction\n",
    "    (\"X0X1\", 0.1809)]  # Pauli XX interaction\n",
    "\n",
    "hamiltonian = Hamiltonian(h2_terms)\n",
    "\n",
    "terms = hamiltonian.terms\n",
    "paulis = hamiltonian.paulis\n",
    "coefs = hamiltonian.coefs\n",
    "\n",
    "print(\"terms: \", terms)\n",
    "print(\"paulis: \", paulis)\n",
    "print(\"coefs: \", coefs)"
   ]
  },
  {
   "cell_type": "markdown",
   "id": "b8072666",
   "metadata": {},
   "source": [
    "## Ansatz <a id=\"ansatz\"></a>\n",
    "\n",
    "Ansatz is a parametrized circuit, and is usually used for finding the minimum energy of a system. In this case, the parameters of the circuit are optimized to result in the most possible minimum of the system.\n",
    "\n",
    "**Class**\n",
    "\n",
    "class `AriaQuanta.aqc.ansatz.Ansatz(class Circuit) (num_of_qubits, params_names, num_of_clbits=0, num_of_ancilla=0, list_of_qubits=[])`\n",
    "\n",
    "\n",
    "**Attributes**\n",
    "\n",
    "- params_names: list of str, \n",
    "    -   example:['theta1', 'theta2']\n",
    "        \n",
    "- params_values: numpy array, the values of the parameters,\n",
    "    - example: [0.1, 0.3]\n",
    "\n",
    "- params_gates: list of tuples, containing the gate, parameter, and the parameter's value\n",
    "    -example: [(<AriaQuanta.aqc.gatelibrary.gatesingle.RX object at 0x7baebecb5ba0>, '_theta', 0)]\n",
    "\n",
    "- Ansatz also has all the attributes in the `Circuit` class    \n",
    "\n",
    "**Methods**\n",
    "\n",
    "- Updating the parameters:\n",
    "\n",
    "`set_params_values(params_value)`\n",
    "\n",
    "- Ansatz also has all the methods in the `Circuit` class.\n",
    "\n",
    "**Some Pre-defined Ansatz**\n",
    "\n",
    "- EfficientSU2 (2 qubits, and 16 parameters):\n",
    "\n",
    "def `EfficientSU2Ansatz`\n",
    "    return ansatz\n",
    "\n",
    "- Simple H2 with single and and double excitations (4 qubits, and 3 parameters (2 for single and 1 for double excitation)):\n",
    "\n",
    "def `H2Ansatz` \n",
    "    return ansatz"
   ]
  },
  {
   "cell_type": "code",
   "execution_count": 5,
   "id": "db0d0134",
   "metadata": {},
   "outputs": [
    {
     "data": {
      "image/png": "[encoded data removed]",
      "text/plain": [
       "<Figure size 2660x180 with 1 Axes>"
      ]
     },
     "metadata": {},
     "output_type": "display_data"
    }
   ],
   "source": [
    "from AriaQuanta.aqc import EfficientSU2Ansatz, CircuitVisualizer\n",
    "\n",
    "myansatz = EfficientSU2Ansatz()\n",
    "\n",
    "visualizer = CircuitVisualizer(myansatz)\n",
    "fig, ax = visualizer.visualize()"
   ]
  },
  {
   "cell_type": "code",
   "execution_count": 4,
   "id": "9b52bef3",
   "metadata": {},
   "outputs": [
    {
     "data": {
      "image/png": "[encoded data removed]",
      "text/plain": [
       "<Figure size 980x360 with 1 Axes>"
      ]
     },
     "metadata": {},
     "output_type": "display_data"
    }
   ],
   "source": [
    "from AriaQuanta.aqc import H2Ansatz, CircuitVisualizer\n",
    "\n",
    "myansatz = H2Ansatz()\n",
    "\n",
    "visualizer = CircuitVisualizer(myansatz)\n",
    "fig, ax = visualizer.visualize()"
   ]
  },
  {
   "cell_type": "markdown",
   "id": "18f1c0f5",
   "metadata": {},
   "source": [
    "## Expectation value <a id=\"exp_value\"></a>\n",
    "\n",
    "To find the expectation value of a circuit, defined by a pauli operators, one can use the `find_expectation_value` function.\n",
    "\n",
    "def ` find_expectation_value(circuit, hamiltonian, num_of_iter_measure)`\n",
    "    return pauli_exp_value, total_energy\n",
    "\n",
    "- pauli_exp_value: (dictionary) is a dictionary containg the pauli terms and the expectation value of each term:\n",
    "    - example: {'I': np.float64(0.0), 'Z0': np.float64(0.0), 'Z1': np.float64(0.2), 'Z0Z1': np.float64(0.4), 'X0X1': np.float64(-0.4)}\n",
    "\n",
    "- total_energy: (float) is the sum of all the expectation values\n"
   ]
  },
  {
   "cell_type": "code",
   "execution_count": 2,
   "id": "84f230ed",
   "metadata": {},
   "outputs": [
    {
     "name": "stdout",
     "output_type": "stream",
     "text": [
      "Expectation value of pauli terms: {'I': np.float64(-1.0524), 'Z0': np.float64(-0.03978999999999999), 'Z1': np.float64(0.03978999999999999), 'Z0Z1': np.float64(0.0011299999999999997), 'X0X1': np.float64(0.007235999999999997)}\n",
      "Total energy of the system: -1.044034\n"
     ]
    }
   ],
   "source": [
    "from AriaQuanta.algorithms import Hamiltonian\n",
    "from AriaQuanta.aqc import Circuit\n",
    "from AriaQuanta.algorithms.eigen_solver import find_expectation_value\n",
    "from AriaQuanta.aqc.gatelibrary import H, X\n",
    "\n",
    "h2_terms = [\n",
    "    (\"I\", -1.0524),    # Identity term\n",
    "    (\"Z0\", 0.3979),    # Pauli Z on qubit 0\n",
    "    (\"Z1\", -0.3979),   # Pauli Z on qubit 1\n",
    "    (\"Z0Z1\", -0.0113), # Pauli ZZ interaction\n",
    "    (\"X0X1\", 0.1809)]  # Pauli XX interaction\n",
    "\n",
    "hamiltonian = Hamiltonian(h2_terms)\n",
    "\n",
    "qc = Circuit(2)\n",
    "qc | H(0) | H(1) | X(0)\n",
    "\n",
    "pauli_exp_value, total_energy = find_expectation_value(qc, hamiltonian, 100)\n",
    "\n",
    "print('Expectation value of pauli terms:', pauli_exp_value)\n",
    "print('Total energy of the system:', total_energy)\n"
   ]
  },
  {
   "cell_type": "markdown",
   "id": "349edf09",
   "metadata": {},
   "source": [
    "## Solving VQE <a id=\"vqesolving\"></a>\n"
   ]
  },
  {
   "cell_type": "markdown",
   "id": "794b3d47",
   "metadata": {},
   "source": [
    "**class**\n",
    "\n",
    "class `VQE (ansatz, hamiltonian, num_of_iter_measure, initial_values, optimizer='COBYLA')`\n",
    "\n",
    "**Attributes**\n",
    "- ansatz: type class Ansatz\n",
    "- hamiltonian: type class Hamiltoninan\n",
    "- num_of_iter_measure: int, number of iterations for measuring a circuit\n",
    "- initial_values: numpy array, initial values of the parameters\n",
    "- optimizer: str, the name of the optimizer, based on scipy optimizer, for example: 'COBYLA', or 'BFGS'\n",
    "\n",
    "- params_all: list of list, All parameter values during minimization\n",
    "- energy_all: list of float, All energy values during minimization\n",
    "\n",
    "- final_params: numpy array, Final values of the parametrs after minimization\n",
    "- final_energy: float, Final value of the energy after minimization\n",
    "\n",
    "\n",
    "**Methods**\n",
    "\n",
    "- finding cost function:\n",
    "def `cost_function(params_values)`\n",
    "    return energy \n",
    "\n",
    "- minimizing energy based on the cost function:\n",
    "def `find_minimize()`\n",
    "    return result\n",
    "\n",
    "In the following, we run VQE for hydrogen atom with differnt hamiltonian, ansatz, and optimizer. The expected value is -1.137 Ha.\n"
   ]
  },
  {
   "cell_type": "code",
   "execution_count": 6,
   "id": "edd4760e",
   "metadata": {},
   "outputs": [
    {
     "name": "stdout",
     "output_type": "stream",
     "text": [
      "VQE Algorithm with a user-defined ansatz\n"
     ]
    },
    {
     "data": {
      "image/png": "[encoded data removed]",
      "text/plain": [
       "<Figure size 1540x180 with 1 Axes>"
      ]
     },
     "metadata": {},
     "output_type": "display_data"
    },
    {
     "name": "stdout",
     "output_type": "stream",
     "text": [
      "\n",
      "result:\n",
      "  message: Optimization terminated successfully.\n",
      " success: True\n",
      "  status: 1\n",
      "     fun: -1.6117048999999999\n",
      "       x: [ 3.405e+00  2.573e+00  2.528e+00  3.567e+00  6.378e-01\n",
      "            1.366e+00  1.099e+00  3.948e+00]\n",
      "    nfev: 76\n",
      "   maxcv: 0.0\n",
      "\n",
      "final params:\n",
      " [3.40464521 2.57313305 2.52772245 3.56665072 0.63776672 1.36584078\n",
      " 1.09865113 3.94761794]\n",
      "\n",
      "final energy:\n",
      " -1.6117048999999999\n"
     ]
    }
   ],
   "source": [
    "from AriaQuanta.aqc.gatelibrary import H, RX, CX, RZ\n",
    "from AriaQuanta.aqc import Ansatz, CircuitVisualizer\n",
    "from AriaQuanta.algorithms import VQE, Hamiltonian\n",
    "import numpy as np\n",
    "\n",
    "print(\"VQE Algorithm with a user-defined ansatz\")\n",
    "\n",
    "#----------------------------------------------\n",
    "# STO-3G basis\n",
    "#----------------------------------------------\n",
    "# hamiltonian\n",
    "\n",
    "hamiltonian = Hamiltonian([\n",
    "    (\"I\",   -1.052373), \n",
    "    (\"Z0\",   0.397937), \n",
    "    (\"Z1\",   0.397937), \n",
    "    (\"Z0Z1\",-0.397937),\n",
    "    (\"X0X1\", 0.180931),\n",
    "])\n",
    "\n",
    "#----------------------------------------------\n",
    "# ansatz of the transformation\n",
    "ansatz = Ansatz(2, ['theta1', 'theta2', 'theta3', 'theta4',\n",
    "                       'theta5', 'theta6', 'theta7', 'theta8']) \n",
    "\n",
    "ansatz | H(0) | H(1) \n",
    "ansatz | RX('theta1',0) | RZ('theta2',0)\n",
    "ansatz | RX('theta5',1) | RZ('theta6',1)\n",
    "ansatz | CX(0,1)\n",
    "ansatz | RX('theta3',0) | RZ('theta4',0)\n",
    "ansatz | RX('theta7',1) | RZ('theta8',1)\n",
    "\n",
    "initial_values = np.random.uniform(low=0, high=np.pi, size=(8,))\n",
    "\n",
    "#----------------------------------------------\n",
    "visualizer = CircuitVisualizer(ansatz)\n",
    "fig1, ax1 = visualizer.visualize()\n",
    "\n",
    "#----------------------------------------------\n",
    "# define vqe, and then minimize the parameters\n",
    "vqe = VQE(ansatz, hamiltonian, 100, initial_values)\n",
    "result = vqe.find_minimize()\n",
    "\n",
    "#----------------------------------------------\n",
    "# print results\n",
    "final_params = vqe.final_params\n",
    "final_energy = vqe.final_energy\n",
    "\n",
    "print(\"\\nresult:\\n\", result)\n",
    "print(\"\\nfinal params:\\n\", final_params)\n",
    "print(\"\\nfinal energy:\\n\", final_energy)"
   ]
  },
  {
   "cell_type": "code",
   "execution_count": 5,
   "id": "6c44f75a",
   "metadata": {},
   "outputs": [
    {
     "name": "stdout",
     "output_type": "stream",
     "text": [
      "VQE Algorithm with pre-defined EfficientSU2Ansatz\n"
     ]
    },
    {
     "data": {
      "image/png": "[encoded data removed]",
      "text/plain": [
       "<Figure size 2660x180 with 1 Axes>"
      ]
     },
     "metadata": {},
     "output_type": "display_data"
    },
    {
     "name": "stdout",
     "output_type": "stream",
     "text": [
      "\n",
      "result:\n",
      "  message: Optimization terminated successfully.\n",
      " success: True\n",
      "  status: 1\n",
      "     fun: -1.51040578\n",
      "       x: [ 4.926e+00  3.750e+00 ...  5.506e+00  4.324e+00]\n",
      "    nfev: 144\n",
      "   maxcv: 0.0\n",
      "\n",
      "final params:\n",
      " [4.92561062 3.74987947 0.21486644 1.63734966 4.44256684 5.30979937\n",
      " 5.50950192 0.13919398 5.65798508 5.23565881 0.96078226 3.85906462\n",
      " 1.95136779 6.03179793 5.50610617 4.32384943]\n",
      "\n",
      "final energy:\n",
      " -1.51040578\n"
     ]
    }
   ],
   "source": [
    "from AriaQuanta.aqc import EfficientSU2Ansatz, CircuitVisualizer\n",
    "from AriaQuanta.algorithms import Hamiltonian, VQE\n",
    "import numpy as np\n",
    "\n",
    "print(\"VQE Algorithm with pre-defined EfficientSU2Ansatz\")\n",
    "# (2 qubits, and 16 parameters)\n",
    "\n",
    "#----------------------------------------------\n",
    "# hamiltonian\n",
    "hamiltonian = Hamiltonian([\n",
    "    (\"I\",   -1.052373), \n",
    "    (\"Z0\",   0.397937), \n",
    "    (\"Z1\",   0.397937), \n",
    "    (\"Z0Z1\",-0.397937),\n",
    "    (\"X0X1\", 0.180931),\n",
    "])\n",
    "\n",
    "#----------------------------------------------\n",
    "# define ansatz\n",
    "ansatz = EfficientSU2Ansatz()\n",
    "\n",
    "initial_values = np.random.uniform(low=0, high=2*np.pi, size=(16,))\n",
    "\n",
    "#----------------------------------------------\n",
    "visualizer = CircuitVisualizer(ansatz)\n",
    "fig2, ax2 = visualizer.visualize()\n",
    "\n",
    "#----------------------------------------------\n",
    "# define vqe, and then minimize the parameters\n",
    "vqe = VQE(ansatz, hamiltonian, 100, initial_values)\n",
    "result = vqe.find_minimize()\n",
    "\n",
    "#----------------------------------------------\n",
    "# print results\n",
    "final_params = vqe.final_params\n",
    "final_energy = vqe.final_energy\n",
    "\n",
    "print(\"\\nresult:\\n\", result)\n",
    "print(\"\\nfinal params:\\n\", final_params)\n",
    "print(\"\\nfinal energy:\\n\", final_energy)"
   ]
  },
  {
   "cell_type": "code",
   "execution_count": 4,
   "id": "ba70eef4",
   "metadata": {},
   "outputs": [
    {
     "name": "stdout",
     "output_type": "stream",
     "text": [
      "VQE Algorithm with pre-defined H2Ansatz\n"
     ]
    },
    {
     "data": {
      "image/png": "[encoded data removed]",
      "text/plain": [
       "<Figure size 980x360 with 1 Axes>"
      ]
     },
     "metadata": {},
     "output_type": "display_data"
    },
    {
     "name": "stdout",
     "output_type": "stream",
     "text": [
      "\n",
      "result:\n",
      "  message: Optimization terminated successfully.\n",
      " success: True\n",
      "  status: 1\n",
      "     fun: -1.013732\n",
      "       x: [ 1.100e+00  2.000e-01  1.300e+00]\n",
      "    nfev: 33\n",
      "   maxcv: 0.0\n",
      "\n",
      "final params:\n",
      " [1.10007683 0.20002422 1.29994075]\n",
      "\n",
      "final energy:\n",
      " -1.013732\n"
     ]
    }
   ],
   "source": [
    "from AriaQuanta.aqc import CircuitVisualizer, H2Ansatz\n",
    "from AriaQuanta.algorithms import Hamiltonian, VQE\n",
    "\n",
    "print(\"VQE Algorithm with pre-defined H2Ansatz\")\n",
    "# 4 qubits, and 3 parameters (2 for single and 1 for double excitation))\n",
    "\n",
    "#----------------------------------------------\n",
    "h2_terms = [\n",
    "    (\"I\",   -1.0524),  # Identity term\n",
    "    (\"Z0\",   0.3979),  # Pauli Z on qubit 0\n",
    "    (\"Z1\",  -0.3979),  # Pauli Z on qubit 1\n",
    "    (\"Z0Z1\",-0.0113),  # Pauli ZZ interaction\n",
    "    (\"X0X1\", 0.1809)]  # Pauli XX interaction\n",
    "\n",
    "hamiltonian = Hamiltonian(h2_terms)\n",
    "\n",
    "#----------------------------------------------\n",
    "ansatz = H2Ansatz()\n",
    "initial_values = np.array([0.1, 0.2, 0.3])\n",
    "\n",
    "#----------------------------------------------\n",
    "visualizer = CircuitVisualizer(ansatz)\n",
    "fig1, ax1 = visualizer.visualize()\n",
    "\n",
    "#----------------------------------------------\n",
    "vqe = VQE(ansatz, hamiltonian, 100, initial_values, optimizer='COBYLA')\n",
    "result = vqe.find_minimize()\n",
    "\n",
    "#----------------------------------------------\n",
    "# print results\n",
    "final_params = vqe.final_params\n",
    "final_energy = vqe.final_energy\n",
    "\n",
    "print(\"\\nresult:\\n\", result)\n",
    "print(\"\\nfinal params:\\n\", final_params)\n",
    "print(\"\\nfinal energy:\\n\", final_energy)"
   ]
  },
  {
   "cell_type": "code",
   "execution_count": 3,
   "id": "bd9c462f",
   "metadata": {},
   "outputs": [
    {
     "name": "stdout",
     "output_type": "stream",
     "text": [
      "VQE Algorithm with an ansatz with custom gate\n"
     ]
    },
    {
     "data": {
      "image/png": "[encoded data removed]",
      "text/plain": [
       "<Figure size 280x180 with 1 Axes>"
      ]
     },
     "metadata": {},
     "output_type": "display_data"
    },
    {
     "name": "stdout",
     "output_type": "stream",
     "text": [
      "\n",
      "result:\n",
      "  message: Optimization terminated successfully.\n",
      " success: True\n",
      "  status: 1\n",
      "     fun: -0.8186613\n",
      "       x: [ 2.589e+00]\n",
      "    nfev: 17\n",
      "   maxcv: 0.0\n",
      "\n",
      "final params:\n",
      " [2.58942428]\n",
      "\n",
      "final energy:\n",
      " -0.8186613\n"
     ]
    }
   ],
   "source": [
    "from AriaQuanta.aqc.gatelibrary import H, RX, CX, RZ, Ruccsd, X\n",
    "from AriaQuanta.aqc import Ansatz, CircuitVisualizer\n",
    "from AriaQuanta.algorithms import VQE, Hamiltonian\n",
    "import numpy as np\n",
    "\n",
    "print(\"VQE Algorithm with an ansatz with custom gate\")\n",
    "\n",
    "#----------------------------------------------\n",
    "# STO-3G basis\n",
    "#----------------------------------------------\n",
    "# hamiltonian\n",
    "\n",
    "hamiltonian = Hamiltonian([\n",
    "    (\"I\",   -1.052373), \n",
    "    (\"Z0\",   0.397937), \n",
    "    (\"Z1\",   0.397937), \n",
    "    (\"Z0Z1\",-0.397937),\n",
    "    (\"X0X1\", 0.180931),\n",
    "])\n",
    "\n",
    "#----------------------------------------------\n",
    "# ansatz of the transformation\n",
    "ansatz = Ansatz(2, ['theta1']) \n",
    "ansatz | X(1) | Ruccsd('theta1', 0, 1)\n",
    "\n",
    "initial_values = np.random.uniform(low=0, high=np.pi, size=(1,))\n",
    "\n",
    "#----------------------------------------------\n",
    "visualizer = CircuitVisualizer(ansatz)\n",
    "fig1, ax1 = visualizer.visualize()\n",
    "\n",
    "#----------------------------------------------\n",
    "# define vqe, and then minimize the parameters\n",
    "vqe = VQE(ansatz, hamiltonian, 100, initial_values, optimizer='COBYLA')\n",
    "result = vqe.find_minimize()\n",
    "\n",
    "#----------------------------------------------\n",
    "# print results\n",
    "final_params = vqe.final_params\n",
    "final_energy = vqe.final_energy\n",
    "\n",
    "print(\"\\nresult:\\n\", result)\n",
    "print(\"\\nfinal params:\\n\", final_params)\n",
    "print(\"\\nfinal energy:\\n\", final_energy)"
   ]
  },
  {
   "cell_type": "markdown",
   "id": "bb49441e",
   "metadata": {},
   "source": [
    "## Quantum Approximate Optimization Algorithm (QAOA) <a id=\"qaoa\"></a>\n"
   ]
  },
  {
   "cell_type": "code",
   "execution_count": 2,
   "id": "9a6b12eb",
   "metadata": {},
   "outputs": [
    {
     "name": "stdout",
     "output_type": "stream",
     "text": [
      "graph_hamiltonian: [('Z0Z1', 1.0), ('Z1Z2', 1.0), ('Z0Z2', 1.0), ('Z1Z3', 1.0), ('Z2Z3', 1.0)]\n"
     ]
    },
    {
     "data": {
      "image/png": "[encoded data removed]",
      "text/plain": [
       "<Figure size 640x480 with 1 Axes>"
      ]
     },
     "metadata": {},
     "output_type": "display_data"
    },
    {
     "data": {
      "image/png": "[encoded data removed]",
      "text/plain": [
       "<Figure size 5880x360 with 1 Axes>"
      ]
     },
     "metadata": {},
     "output_type": "display_data"
    },
    {
     "name": "stdout",
     "output_type": "stream",
     "text": [
      "result: {'|1101>': 0.14}\n",
      "counts: {'|0000>': 1, '|0001>': 13, '|0010>': 9, '|0011>': 1, '|0100>': 11, '|0101>': 3, '|0110>': 5, '|0111>': 5, '|1000>': 8, '|1001>': 6, '|1010>': 6, '|1011>': 4, '|1100>': 4, '|1101>': 14, '|1110>': 8, '|1111>': 2}\n"
     ]
    }
   ],
   "source": [
    "import rustworkx as rx\n",
    "from rustworkx.visualization import mpl_draw as draw_graph\n",
    "from AriaQuanta.algorithms import QAOA\n",
    "from AriaQuanta.aqc import CircuitVisualizer\n",
    "import numpy as np\n",
    "\n",
    "#-------------------------------------------------------\n",
    "n = 4\n",
    "graph = rx.PyGraph()\n",
    "graph.add_nodes_from(np.arange(0, n, 1))\n",
    "edge_list = [(0, 1, 1.0), (1, 2, 1.0), (0, 2, 1.0), (1, 3, 1.0), (2, 3, 1.0)]\n",
    "graph.add_edges_from(edge_list)\n",
    "draw_graph(graph, node_size=600, with_labels=True)\n",
    " \n",
    "#-------------------------------------------------------\n",
    "n_layers = 2\n",
    "# [beta0, beta1, gamma0, gamma1]\n",
    "initial_values = np.random.uniform(low=0, high=1, size=(2*n_layers,))\n",
    "\n",
    "qaoa = QAOA(graph, n_layers, 100, initial_values, 'COBYLA') \n",
    "\n",
    "#----------------------------------------------\n",
    "graph_hamiltonian = qaoa.hamiltonian\n",
    "print('graph_hamiltonian:', graph_hamiltonian.terms)\n",
    "\n",
    "#----------------------------------------------\n",
    "graph_ansatz = qaoa.ansatz\n",
    "visualizer = CircuitVisualizer(graph_ansatz)\n",
    "fig1, ax1 = visualizer.visualize()\n",
    "\n",
    "#----------------------------------------------\n",
    "result, counts = qaoa.max_cut()\n",
    "print('result:', result)\n",
    "print('counts:', counts)\n"
   ]
  },
  {
   "cell_type": "markdown",
   "id": "ce646d33",
   "metadata": {},
   "source": [
    "# Reordering the qubits <a id=\"reorder\"></a>\n",
    "\n",
    "In some quantum computing libraries. For example, in Qiskit, the qubits are ordered using little-endian notation, with the least significant qubits having smaller indices as indicated on the [Qiskit's Documentation](https://docs.quantum.ibm.com/api/qiskit/quantum_info)\n"
   ]
  },
  {
   "cell_type": "code",
   "execution_count": null,
   "id": "b443c157",
   "metadata": {},
   "outputs": [],
   "source": [
    "from AriaQuanta.aqc.gatelibrary import H, X\n",
    "from AriaQuanta.aqc.circuit import Circuit, sv_to_probabilty\n",
    "import numpy as np\n",
    "\n",
    "qc = Circuit(2)\n",
    "qc |  X(0) | H(1)\n",
    "\n",
    "qc.run()\n",
    "\n",
    "# ------------ reorder output\n",
    "print(\"\\nstate vector: \", qc.statevector_reorder)\n",
    "print(\"\\ndensity matrix: \", qc.density_matrix_reorder)\n",
    "\n",
    "probability = sv_to_probabilty(qc.statevector_reorder, plot=True)\n",
    "print(\"\\nprobability: \", probability)"
   ]
  },
  {
   "cell_type": "markdown",
   "id": "51b24e64",
   "metadata": {},
   "source": [
    "# Testing circuits comparing with Qiskit <a id=\"compareqiskit\"></a>"
   ]
  },
  {
   "cell_type": "markdown",
   "id": "cf01c392",
   "metadata": {},
   "source": [
    "## Testing single-qubit gates <a id=\"compareqiskit1qubit\"></a>"
   ]
  },
  {
   "cell_type": "code",
   "execution_count": null,
   "id": "9e7f9162",
   "metadata": {},
   "outputs": [],
   "source": [
    "from AriaQuanta.aqc.gatelibrary import *\n",
    "from AriaQuanta.aqc.circuit import Circuit\n",
    "import numpy as np\n",
    "\n",
    "\"\"\"\n",
    "    I, ok - id\n",
    "    GlobalPhase (old: Ph), Qiskit: qc(global_phase=0)\n",
    "    X, ok - x\n",
    "    Y, ok - y\n",
    "    Z, ok - z\n",
    "    S, ok - s\n",
    "    Xsqrt,\n",
    "    H, ok - h\n",
    "    P, ok - p\n",
    "    T, ok - t\n",
    "    RX, ok - rx\n",
    "    RY, ok - ry\n",
    "    RZ, ok - rz\n",
    "    Rot, ok - u\n",
    "\"\"\"\n",
    "\n",
    "qc = Circuit(3)\n",
    "qc | GlobalPhase(np.pi/2) | H(0) | Z(2) | P(np.pi*2/7,1) | RZ(np.pi*2/3,1) | Rot(np.pi/4,np.pi/3,np.pi*2/5,2) | T(1) | I(0)\n",
    "\n",
    "qc.run()\n",
    "\n",
    "print(\"\\nstate vector:\\n\", qc.statevector)\n",
    "print(\"\\nreordered state vector:\\n\", qc.statevector_reorder)\n"
   ]
  },
  {
   "cell_type": "markdown",
   "id": "11b340eb",
   "metadata": {},
   "source": [
    "### Qiskits's equivalent code and output:\n",
    "\n",
    "The below code is the Qiskits' equivalent code and the result:"
   ]
  },
  {
   "cell_type": "code",
   "execution_count": null,
   "id": "6c228503",
   "metadata": {
    "scrolled": true
   },
   "outputs": [],
   "source": [
    "from IPython.display import Image, display\n",
    "\n",
    "display(Image(\"qiskit_compare/qiskit_single.png\", width=800))\n",
    "display(Image(\"qiskit_compare/qiskit_single_result.jpg\", width=800))\n"
   ]
  },
  {
   "cell_type": "markdown",
   "id": "e79cca9e",
   "metadata": {},
   "source": [
    "## Testing double-qubit gates <a id=\"compareqiskit2qubit\"></a>"
   ]
  },
  {
   "cell_type": "code",
   "execution_count": null,
   "id": "6792ccd9",
   "metadata": {},
   "outputs": [],
   "source": [
    "from AriaQuanta.aqc.gatelibrary import *\n",
    "from AriaQuanta.aqc.circuit import Circuit\n",
    "import numpy as np\n",
    "\n",
    "\"\"\"\n",
    "    SWAP, ok - swap\n",
    "    \n",
    "    ISWAP ok - iswap\n",
    "    \n",
    "    SWAPsqrt, ok: \n",
    "        from qiskit.circuit.library import SwapGate\n",
    "        swapsqrt = SwapGate().power(1/2)\n",
    "        qc.append(swapsqrt, [0, 1])\n",
    "            \n",
    "    SWAPalpha, ok:\n",
    "        from qiskit.circuit.library import SwapGate\n",
    "        swapalpha = SwapGate().power(alpha)\n",
    "        qc.append(swapalpha, [0, 1])\n",
    "    \n",
    "    RXX, ok - rxx\n",
    "    RYY, ok - ryy\n",
    "    RZZ, ok - rzz\n",
    "    RXY,\n",
    "    \n",
    "    Barenco,\n",
    "    Berkeley,\n",
    "    Canonical,\n",
    "    Givens,\n",
    "    Magic,\n",
    "\"\"\"\n",
    "\n",
    "qc = Circuit(3)\n",
    "qc | X(1) | H(2) | H(0) | RX(np.pi/3,1) | RZZ(np.pi*3/5,2,0) | SWAPalpha(np.pi*4/7,1,2)\n",
    "\n",
    "qc.run()\n",
    "\n",
    "print(\"\\nstate vector:\\n\", qc.statevector)\n",
    "print(\"\\nreordered state vector:\\n\", qc.statevector_reorder)"
   ]
  },
  {
   "cell_type": "markdown",
   "id": "e1270523",
   "metadata": {},
   "source": [
    "### Qiskits's equivalent code and output:\n",
    "\n",
    "The below code is the Qiskits' equivalent code and the result:"
   ]
  },
  {
   "cell_type": "code",
   "execution_count": null,
   "id": "10dd185d",
   "metadata": {},
   "outputs": [],
   "source": [
    "from IPython.display import Image, display\n",
    "\n",
    "display(Image(\"qiskit_compare/qiskit_double.jpg\", width=600))\n",
    "display(Image(\"qiskit_compare/qiskit_double_result.jpg\", width=800))"
   ]
  },
  {
   "cell_type": "markdown",
   "id": "fc77eb5d",
   "metadata": {},
   "source": [
    "## Testing triple-qubit and control gates <a id=\"compareqisktcontrol\"></a>"
   ]
  },
  {
   "cell_type": "code",
   "execution_count": null,
   "id": "b2799c2e",
   "metadata": {},
   "outputs": [],
   "source": [
    "# Example of applying control on custom and 1-qubit gates\n",
    "\n",
    "from AriaQuanta.aqc.gatelibrary import *\n",
    "from AriaQuanta.aqc.circuit import Circuit\n",
    "import numpy as np\n",
    "\n",
    "\"\"\"\n",
    "    # control on any arbitrary gate\n",
    "    CU, ok - cusotm-controlled\n",
    "    \n",
    "    # control on 1-qubit gates\n",
    "    CX, ok - cx\n",
    "    CZ, ok - cz\n",
    "    CP, ok - cp\n",
    "    CS, ok - cs\n",
    "    CSX, ok - csx \n",
    "    \n",
    "    # control on 2-qubit gates\n",
    "    CCX (Toffoli) ok\n",
    "    CSWAP (Fredkin) ok\n",
    "\"\"\"\n",
    "\n",
    "cx = CU(base_matrix=X().matrix, control_qubits=2, target_qubits=0)\n",
    "\n",
    "\n",
    "qc = Circuit(3)\n",
    "qc | X(1) | H(2) | H(0) | cx | RX(np.pi/3,1) | RZZ(np.pi*3/5,0,2) | CS(0,1)\n",
    "qc.run()\n",
    "\n",
    "#print(\"\\nstate vector:\\n\", qc.statevector)\n",
    "print(\"\\nreordered state vector:\\n\", qc.statevector_reorder)"
   ]
  },
  {
   "cell_type": "markdown",
   "id": "19cc62c0",
   "metadata": {},
   "source": [
    "### Qiskits's equivalent code and output:"
   ]
  },
  {
   "cell_type": "code",
   "execution_count": null,
   "id": "92410782",
   "metadata": {},
   "outputs": [],
   "source": [
    "from IPython.display import Image, display\n",
    "\n",
    "display(Image(\"qiskit_compare/qiskit_control.jpg\", width=600))\n",
    "display(Image(\"qiskit_compare/qiskit_control_result.jpg\", width=800))"
   ]
  },
  {
   "cell_type": "code",
   "execution_count": null,
   "id": "3ee40ed3",
   "metadata": {},
   "outputs": [],
   "source": [
    "# Example of applying control on custom and 2-qubit gates\n",
    "# Toffoli and Fredkin\n",
    "\n",
    "from AriaQuanta.aqc.gatelibrary import *\n",
    "from AriaQuanta.aqc.circuit import Circuit\n",
    "import numpy as np\n",
    "\n",
    "\"\"\"\n",
    "    # control on any arbitrary gate\n",
    "    CU, ok - cusotm-controlled\n",
    "    \n",
    "    # control on 1-qubit gates\n",
    "    CX, ok - cx\n",
    "    CZ, ok - cz\n",
    "    CP, ok - cp\n",
    "    CS, ok - cs\n",
    "    CSX, ok - csx \n",
    "    \n",
    "    # control on 2-qubit gates\n",
    "    CCX (Toffoli) ok\n",
    "    CSWAP (Fredkin) ok\n",
    "\"\"\"\n",
    "\n",
    "qc = Circuit(3)\n",
    "qc | H(1) | H(2) | H(0) | X(1) | P(np.pi/3,0) | CSWAP(2,1,0) |  RYY(np.pi*3/5,0,2) | CCX(1,0,2)\n",
    "qc.run()\n",
    "#print(\"\\nstate vector:\\n\", qc.statevector)\n",
    "print(\"\\nreordered state vector:\\n\", qc.statevector_reorder)"
   ]
  },
  {
   "cell_type": "markdown",
   "id": "022c4033",
   "metadata": {},
   "source": [
    "### Qiskits's equivalent code and output:"
   ]
  },
  {
   "cell_type": "code",
   "execution_count": null,
   "id": "9ed10389",
   "metadata": {},
   "outputs": [],
   "source": [
    "from IPython.display import Image, display\n",
    "\n",
    "display(Image(\"qiskit_compare/qiskit_triple_control.jpg\", width=600))\n",
    "display(Image(\"qiskit_compare/qiskit_triple_control_result.jpg\", width=800))"
   ]
  },
  {
   "cell_type": "markdown",
   "id": "6cb437c4",
   "metadata": {},
   "source": [
    "## Testing custom gates <a id=\"compareqiskitcustom\"></a>"
   ]
  },
  {
   "cell_type": "code",
   "execution_count": null,
   "id": "3d863d95",
   "metadata": {},
   "outputs": [],
   "source": [
    "from AriaQuanta.aqc.gatelibrary import *\n",
    "from AriaQuanta.aqc.circuit import Circuit\n",
    "import numpy as np\n",
    "\n",
    "\"\"\"\n",
    "    # any arbitrary gate\n",
    "    Custom, ok - cusotm-controlled\n",
    "\"\"\"\n",
    "\n",
    "cx = Custom(matrix=CX().matrix, target_qubits=[1,0])\n",
    "swap = Custom(matrix=SWAP().matrix, target_qubits=[0,1])\n",
    "\n",
    "\n",
    "qc = Circuit(2)\n",
    "qc | X(1) | H(0) | RX(np.pi/3,1) | RZZ(np.pi*3/5,1,0) | cx | swap\n",
    "qc.run()\n",
    "\n",
    "#print(\"\\nstate vector:\\n\", qc.statevector)\n",
    "print(\"\\nreordered state vector:\\n\", qc.statevector_reorder)"
   ]
  },
  {
   "cell_type": "markdown",
   "id": "c47b7abc",
   "metadata": {},
   "source": [
    "### Qiskits's equivalent code and output:"
   ]
  },
  {
   "cell_type": "code",
   "execution_count": null,
   "id": "a536b27f",
   "metadata": {},
   "outputs": [],
   "source": [
    "from IPython.display import Image, display\n",
    "\n",
    "display(Image(\"qiskit_compare/qiskit_custom.jpg\", width=600))\n",
    "display(Image(\"qiskit_compare/qiskit_custom_result.jpg\", width=800))"
   ]
  },
  {
   "cell_type": "markdown",
   "id": "e2702720",
   "metadata": {},
   "source": [
    "# Run-time of AriaQuanta compared with other libraries <a id=\"runtime\"></a>"
   ]
  },
  {
   "cell_type": "markdown",
   "id": "53d6afa7",
   "metadata": {},
   "source": [
    "We compare `AriaQuanta` with four common quanum computing libraries - namely, `Qiskit`, `Cirq`, `PennyLane`, and `ProjectQ`. We report the runtime for three differrent gates `H`, `RX`, and `CX`. The system's configuration is as follows: "
   ]
  },
  {
   "cell_type": "markdown",
   "id": "24a41d24",
   "metadata": {},
   "source": [
    "- System's configuration:\n",
    "    * Hardware Model: Acer Aspire E5-576G\n",
    "    * Memory: 16 GB\n",
    "    * Processor: Intel®️ Core™️ i7-7500U CPU @ 2.70GHz × 4\n",
    "    * Graphics: NV118 / Mesa Intel®️ HD Graphics 620 (KBL GT2)\n",
    "    * OS Name: Ubuntu 22.04.5 LTS\n",
    "    * OS Type: 64-bit"
   ]
  },
  {
   "cell_type": "code",
   "execution_count": null,
   "id": "b78cea4a",
   "metadata": {},
   "outputs": [],
   "source": [
    "from IPython.display import Image, display\n",
    "\n",
    "display(Image(\"aria_compare/hadamard.png\", width=600))"
   ]
  },
  {
   "cell_type": "code",
   "execution_count": null,
   "id": "d36483f2",
   "metadata": {},
   "outputs": [],
   "source": [
    "from IPython.display import Image, display\n",
    "\n",
    "display(Image(\"aria_compare/rx.png\", width=600))"
   ]
  },
  {
   "cell_type": "code",
   "execution_count": null,
   "id": "34b19c89",
   "metadata": {},
   "outputs": [],
   "source": [
    "from IPython.display import Image, display\n",
    "\n",
    "display(Image(\"aria_compare/cnot.png\", width=600))"
   ]
  },
  {
   "cell_type": "markdown",
   "id": "afcb81c2",
   "metadata": {},
   "source": [
    "# Appendix A: Aria Quanta's package structure <a id=\"appendixA\"></a>\n",
    "\n",
    "In the following, we first present the structure of Aria Quanta's package, and then a list of different classes and functions."
   ]
  },
  {
   "cell_type": "markdown",
   "id": "c67851ac",
   "metadata": {},
   "source": [
    "### a. Structure:"
   ]
  },
  {
   "cell_type": "raw",
   "id": "e8c0954b",
   "metadata": {
    "vscode": {
     "languageId": "raw"
    }
   },
   "source": [
    "AriaQuanta\n",
    "├── __init__.py\n",
    "├── _utils.py\n",
    "|── _version.py\n",
    "|\n",
    "├── algorithms\n",
    "│   ├── __init__.py\n",
    "│   ├── dj_algorithm.py\n",
    "│   ├── eigen_solver.py\n",
    "│   ├── grover_algorithm.py\n",
    "│   ├── iqft_algorithm.py\n",
    "│   ├── qaoa_algorithm.py\n",
    "│   ├── qft_algorithm.py\n",
    "│   ├── qpe_algorithm.py\n",
    "│   └── vqe_algorithm.py\n",
    "|\n",
    "├── aqc\n",
    "│   ├── __init__.py\n",
    "│   ├── ansatz.py\n",
    "│   ├── circuit.py\n",
    "│   ├── gatelibrary\n",
    "│   │   ├── __init__.py\n",
    "│   │   ├── gatecontroln.py\n",
    "│   │   ├── gatecontrol.py\n",
    "│   │   ├── gatecustom.py\n",
    "│   │   ├── gatedouble.py\n",
    "│   │   ├── gatesingle.py\n",
    "│   ├── measure.py\n",
    "│   ├── noise.py\n",
    "│   ├── operations.py\n",
    "│   ├── qubit.py\n",
    "│   └── visualization.py\n",
    "|\n",
    "├── backend\n",
    "│   ├── __init__.py\n",
    "│   ├── job.py\n",
    "│   ├── result.py\n",
    "│   └── simulator.py\n",
    "|\n",
    "├── config.py\n",
    "└── requirements.txt"
   ]
  },
  {
   "cell_type": "markdown",
   "id": "77c3be62",
   "metadata": {},
   "source": [
    "### b. List of all the classes and functions:"
   ]
  },
  {
   "cell_type": "markdown",
   "id": "295f714b",
   "metadata": {},
   "source": [
    "- AriaQuanta.aqc:\n",
    "    - Qubit\n",
    "    - MultiQubit\n",
    "    - create_state\n",
    "    - Circuit\n",
    "    - sv_reorder_qubits \n",
    "    - sv_to_probabilty\n",
    "    - to_gate\n",
    "    - Ansatz\n",
    "    - EfficientSU2Ansatz\n",
    "    - H2Ansatz\n",
    "    - NoiseClass\n",
    "    - BitFlipNoise\n",
    "    - PhaseFlipNoise\n",
    "    - DepolarizingNoise\n",
    "    - Measure\n",
    "    - MeasureQubit\n",
    "    - Operations\n",
    "    - If_cbit\n",
    "    - CircuitVisualizer"
   ]
  },
  {
   "cell_type": "markdown",
   "id": "a480374f",
   "metadata": {},
   "source": [
    "- AriaQuanta.aqc.gatelibrary:\n",
    "    - GateSingleQubit\n",
    "    - I\n",
    "    - GlobalPhase\n",
    "    - X\n",
    "    - Y\n",
    "    - Z\n",
    "    - S\n",
    "    - Sdg\n",
    "    - Xsqrt\n",
    "    - H\n",
    "    - P\n",
    "    - T\n",
    "    - RX\n",
    "    - RY\n",
    "    - RZ\n",
    "    - Rot\n",
    "    - GateDoubleQubit\n",
    "    - SWAP\n",
    "    - ISWAP\n",
    "    - SWAPsqrt\n",
    "    - SWAPalpha\n",
    "    - RXX\n",
    "    - RYY\n",
    "    - RZZ\n",
    "    - RXY\n",
    "    - Barenco\n",
    "    - Berkeley\n",
    "    - Canonical\n",
    "    - Givens\n",
    "    - Magic\n",
    "    - GateCustom\n",
    "    - Custom\n",
    "    - GateControl\n",
    "    - CX\n",
    "    - CZ\n",
    "    - CP\n",
    "    - CS\n",
    "    - CSX \n",
    "    - CRX\n",
    "    - CCX\n",
    "    - CSWAP\n",
    "    - CU\n",
    "    - CNZ"
   ]
  },
  {
   "cell_type": "markdown",
   "id": "d8d69c4d",
   "metadata": {},
   "source": [
    "- AriaQuanta.algorithms:\n",
    "\n",
    "    -   Hamiltonian\n",
    "    -   find_expectation_value\n",
    "    -   dj\n",
    "    -   grover\n",
    "    -   qft \n",
    "    -   iqft\n",
    "    -   qpe\n",
    "    -   VQE\n",
    "    -   QAOA\n",
    "    -   cost_hamiltonian\n",
    "    -   mixer_hamiltonian\n",
    "    -   GraphHamiltonian\n",
    "    -   GraphAnsatz"
   ]
  },
  {
   "cell_type": "markdown",
   "id": "f89bcafb",
   "metadata": {},
   "source": [
    "- AriaQuanta.backend:\n",
    "    - Job\n",
    "    - Result\n",
    "    - sv_to_density_matrix\n",
    "    - plot_histogram\n",
    "    - Simulator\n",
    "    - profile_executor\n",
    "    - choose_best_executor"
   ]
  }
 ],
 "metadata": {
  "authors": [
   {
    "name": "Khatereh Azizi"
   }
  ],
  "kernelspec": {
   "display_name": "env_aq",
   "language": "python",
   "name": "python3"
  },
  "language_info": {
   "codemirror_mode": {
    "name": "ipython",
    "version": 3
   },
   "file_extension": ".py",
   "mimetype": "text/x-python",
   "name": "python",
   "nbconvert_exporter": "python",
   "pygments_lexer": "ipython3",
   "version": "3.13.2"
  },
  "title": "AriaQuanta Tutorial"
 },
 "nbformat": 4,
 "nbformat_minor": 5
}
